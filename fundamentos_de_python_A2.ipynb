{
  "nbformat": 4,
  "nbformat_minor": 0,
  "metadata": {
    "colab": {
      "name": "fundamentos de python A2.ipynb",
      "provenance": [],
      "collapsed_sections": [],
      "authorship_tag": "ABX9TyMJDJ0c5IuIJKtxQZTak/bO",
      "include_colab_link": true
    },
    "kernelspec": {
      "name": "python3",
      "display_name": "Python 3"
    },
    "language_info": {
      "name": "python"
    }
  },
  "cells": [
    {
      "cell_type": "markdown",
      "metadata": {
        "id": "view-in-github",
        "colab_type": "text"
      },
      "source": [
        "<a href=\"https://colab.research.google.com/github/luishernandezpw/Programacion-Computacional-III/blob/main/fundamentos_de_python_A2.ipynb\" target=\"_parent\"><img src=\"https://colab.research.google.com/assets/colab-badge.svg\" alt=\"Open In Colab\"/></a>"
      ]
    },
    {
      "cell_type": "markdown",
      "metadata": {
        "id": "UuRMKmRt_pBH"
      },
      "source": [
        "Fundamentos de **Python**"
      ]
    },
    {
      "cell_type": "code",
      "metadata": {
        "colab": {
          "base_uri": "https://localhost:8080/"
        },
        "id": "UQilgM3d_kpL",
        "outputId": "47a90b4a-b146-4e8e-b341-f66a18476f7c"
      },
      "source": [
        "print(\"Hola Mundo\")"
      ],
      "execution_count": null,
      "outputs": [
        {
          "output_type": "stream",
          "text": [
            "Hola Mundo\n"
          ],
          "name": "stdout"
        }
      ]
    },
    {
      "cell_type": "code",
      "metadata": {
        "id": "RysIOshS_0ii"
      },
      "source": [
        "print(\"Bienvenidos a Programacion Computacional III...\")"
      ],
      "execution_count": null,
      "outputs": []
    },
    {
      "cell_type": "code",
      "metadata": {
        "id": "l7XV5qzdAcjB"
      },
      "source": [
        "import tensorflow as tf\n"
      ],
      "execution_count": null,
      "outputs": []
    },
    {
      "cell_type": "code",
      "metadata": {
        "colab": {
          "base_uri": "https://localhost:8080/"
        },
        "id": "-Sohe37uOBmM",
        "outputId": "201ed628-5a89-4e0e-d396-e06d67414b6f"
      },
      "source": [
        "def suma():\n",
        "  num1 = input(\"Dime un numero:\")\n",
        "  num2 = input(\"Dime otro numero:\")\n",
        "  print( \"La suma es: \", float(num1) + float(num2) )\n",
        "suma()"
      ],
      "execution_count": null,
      "outputs": [
        {
          "output_type": "stream",
          "text": [
            "Dime un numero:8\n",
            "Dime otro numero:4.5\n",
            "La suma es:  12.5\n"
          ],
          "name": "stdout"
        }
      ]
    },
    {
      "cell_type": "code",
      "metadata": {
        "colab": {
          "base_uri": "https://localhost:8080/"
        },
        "id": "71MZEU-NOI6A",
        "outputId": "3a44cc7c-66bb-4c49-8c7a-4bc788b603fe"
      },
      "source": [
        "def calcularSueldo(numHrs,valorXHr):\n",
        "  hrsExtras = 0\n",
        "  if( numHrs>8 ):\n",
        "    hrsExtras = float(numHrs) - 8\n",
        "  sueldo = ((8*valorXHr)+(hrsExtras*valorXHr*2))*30\n",
        "  return sueldo\n",
        "\n",
        "numHrs = float(input(\"Dame el numero de horas: \"))\n",
        "valorXHr = float(input(\"Dame el valor por hora: \"))\n",
        "sueldo = calcularSueldo(numHrs, valorXHr)\n",
        "print(\"El sueldo es: \", sueldo)"
      ],
      "execution_count": null,
      "outputs": [
        {
          "output_type": "stream",
          "text": [
            "Dame el numero de horas: 4\n",
            "Dame el valor por hora: 4\n",
            "El sueldo es:  960.0\n"
          ],
          "name": "stdout"
        }
      ]
    },
    {
      "cell_type": "code",
      "metadata": {
        "colab": {
          "base_uri": "https://localhost:8080/"
        },
        "id": "DTm7LZ-qOZhJ",
        "outputId": "470126f1-e666-4a0c-f4b4-00e4877e78f2"
      },
      "source": [
        "print(\"Conversion de Fahrenheit a Celsius\")\n",
        "f = float(input(\"Dame la temperatura en Fahrenheit: \"))\n",
        "c = (f-32)*5/9\n",
        "print(\"La temperatura en Celsius es: \", c)"
      ],
      "execution_count": null,
      "outputs": [
        {
          "output_type": "stream",
          "text": [
            "Conversion de Fahrenheit a Celsius\n",
            "Dame la temperatura en Fahrenheit: 105\n",
            "La temperatura en Celsius es:  40.55555555555556\n"
          ],
          "name": "stdout"
        }
      ]
    },
    {
      "cell_type": "code",
      "metadata": {
        "colab": {
          "base_uri": "https://localhost:8080/"
        },
        "id": "iqkxnUwnO1v-",
        "outputId": "742b8cd0-b252-45ab-f339-a069046816c4"
      },
      "source": [
        "nombrePersona = input(\"Dame tu nombre: \")\n",
        "print(\"Hola, \", nombrePersona)\n",
        "estado = input(\"Como te encuentras hoy: \")\n",
        "print(\"Buen dia \", nombrePersona, \", estas \", estado)"
      ],
      "execution_count": null,
      "outputs": [
        {
          "output_type": "stream",
          "text": [
            "Dame tu nombre: Luis\n",
            "Hola,  Luis\n",
            "Como te encuentras hoy: Bien\n",
            "Buen dia  Luis , estas  Bien\n"
          ],
          "name": "stdout"
        }
      ]
    },
    {
      "cell_type": "code",
      "metadata": {
        "colab": {
          "base_uri": "https://localhost:8080/"
        },
        "id": "6fTiP3cUNSIp",
        "outputId": "16737a4f-3c5e-4c4c-ed09-3addae528c09"
      },
      "source": [
        "def suma(num1, num2):\n",
        "  return num1 + num2\n",
        "\n",
        "num1 = float(input(\"Num1: \"))\n",
        "num2 = float(input(\"Nnum2: \"))\n",
        "\n",
        "resp = suma(num1, num2)\n",
        "print(\"Respuesta: \", resp)"
      ],
      "execution_count": null,
      "outputs": [
        {
          "output_type": "stream",
          "text": [
            "Num1: 5\n",
            "Nnum2: 7\n",
            "Respuesta:  12.0\n"
          ],
          "name": "stdout"
        }
      ]
    },
    {
      "cell_type": "code",
      "metadata": {
        "colab": {
          "base_uri": "https://localhost:8080/"
        },
        "id": "rXtMe0cMN2fR",
        "outputId": "d14e3b31-be3d-4f5a-8e06-c1e11e78fabc"
      },
      "source": [
        "suma = lambda num1, num2: num1+num2\n",
        "\n",
        "n1 = float(input(\"Dime Num 1: \"))\n",
        "n2 = float(input(\"Dime Num 2: \"))\n",
        "\n",
        "resp = suma(n1, n2)\n",
        "print(\"La suma es: \", resp)"
      ],
      "execution_count": null,
      "outputs": [
        {
          "output_type": "stream",
          "text": [
            "Dime Num 1: 5\n",
            "Dime Num 2: 7\n",
            "La suma es:  12.0\n"
          ],
          "name": "stdout"
        }
      ]
    },
    {
      "cell_type": "code",
      "metadata": {
        "colab": {
          "base_uri": "https://localhost:8080/"
        },
        "id": "XPLza6uDO1S7",
        "outputId": "7dd6d68d-020f-46ae-d2d7-b6b806e914e8"
      },
      "source": [
        "cuadrado = lambda x: x**2\n",
        "\n",
        "n = int(input(\"Numero a elevar al cuadrado: \"))\n",
        "print(\"Respuesta: \", cuadrado(n))"
      ],
      "execution_count": null,
      "outputs": [
        {
          "output_type": "stream",
          "text": [
            "Numero a elevar al cuadrado: 3\n",
            "Respuesta:  9\n"
          ],
          "name": "stdout"
        }
      ]
    },
    {
      "cell_type": "code",
      "metadata": {
        "colab": {
          "base_uri": "https://localhost:8080/"
        },
        "id": "wYEIMWSYQEpE",
        "outputId": "c61fe2bf-252d-42b8-82b4-28ca2e49c150"
      },
      "source": [
        "cubo = lambda x:x**3\n",
        "\n",
        "n = int(input(\"Numero a elevar al cubo: \"))\n",
        "print(\"Respuesta: \", cubo(n))"
      ],
      "execution_count": null,
      "outputs": [
        {
          "output_type": "stream",
          "text": [
            "Numero a elevar al cubo: 3\n",
            "Respuesta:  27\n"
          ],
          "name": "stdout"
        }
      ]
    },
    {
      "cell_type": "code",
      "metadata": {
        "colab": {
          "base_uri": "https://localhost:8080/"
        },
        "id": "ZE5heFSjQdKN",
        "outputId": "e9789eef-2163-47e3-e005-3ab722934f28"
      },
      "source": [
        "exp = lambda n,e:n**e\n",
        "n = int(input(\"Numero a elevar a un exponente: \"))\n",
        "e = int(input(\"Exponente: \"))\n",
        "print(\"Respuesta: \", exp(n,e))"
      ],
      "execution_count": null,
      "outputs": [
        {
          "output_type": "stream",
          "text": [
            "Numero a elevar a un exponente: 3\n",
            "Exponente: 5\n",
            "Respuesta:  243\n"
          ],
          "name": "stdout"
        }
      ]
    },
    {
      "cell_type": "code",
      "metadata": {
        "colab": {
          "base_uri": "https://localhost:8080/"
        },
        "id": "3Lu1uH94RqL7",
        "outputId": "f51f78e0-0c83-45fb-c26b-60608aaeca25"
      },
      "source": [
        "conversion = lambda f:(f-32)*5/9\n",
        "f = float(input(\"Fahrenheit: \"))\n",
        "print(\"Grados F: \", f, \" en celsius es: \", conversion(f))"
      ],
      "execution_count": null,
      "outputs": [
        {
          "output_type": "stream",
          "text": [
            "Fahrenheit: 105\n",
            "Grados F:  105.0  en celsius es:  40.55555555555556\n"
          ],
          "name": "stdout"
        }
      ]
    },
    {
      "cell_type": "code",
      "metadata": {
        "colab": {
          "base_uri": "https://localhost:8080/"
        },
        "id": "MQIha-4EYeGv",
        "outputId": "cd0212d6-0ba1-41ca-8ba4-99a516657f49"
      },
      "source": [
        "lista = [1,2,3,5, 2]\n",
        "resp = list(map(lambda n:n*2, lista))\n",
        "print( lista, resp )"
      ],
      "execution_count": null,
      "outputs": [
        {
          "output_type": "stream",
          "text": [
            "[1, 2, 3, 5, 2] [2, 4, 6, 10, 4]\n"
          ],
          "name": "stdout"
        }
      ]
    },
    {
      "cell_type": "code",
      "metadata": {
        "colab": {
          "base_uri": "https://localhost:8080/"
        },
        "id": "5YYcpWT7WY9D",
        "outputId": "53a0faab-c247-42e5-a6f8-6359ed6d792a"
      },
      "source": [
        "lista = [96,85,105] #Grados Fahrenheit\n",
        "c = list(map(conversion, lista))\n",
        "print( \"Grados Fahrenheit: \", lista, \"Grados Celsius: \", c )"
      ],
      "execution_count": null,
      "outputs": [
        {
          "output_type": "stream",
          "text": [
            "Grados Fahrenheit:  [96, 85, 105] Grados Celsius:  [35.55555555555556, 29.444444444444443, 40.55555555555556]\n"
          ],
          "name": "stdout"
        }
      ]
    },
    {
      "cell_type": "code",
      "metadata": {
        "colab": {
          "base_uri": "https://localhost:8080/"
        },
        "id": "yMkb9-XpZOMi",
        "outputId": "a9a59b29-c61b-4a90-f37d-719660f33447"
      },
      "source": [
        "resp = list( filter(lambda n:n%2==0, lista))\n",
        "print(\"Los numeros pares de la lista: \", lista, \" son: \", resp)"
      ],
      "execution_count": null,
      "outputs": [
        {
          "output_type": "stream",
          "text": [
            "Los numeros pares de la lista:  [96, 85, 105]  son:  [96]\n"
          ],
          "name": "stdout"
        }
      ]
    },
    {
      "cell_type": "code",
      "metadata": {
        "colab": {
          "base_uri": "https://localhost:8080/"
        },
        "id": "7O7x87Q3aZxy",
        "outputId": "5684b688-eb12-473d-99aa-c678e8e59696"
      },
      "source": [
        "resp = list(filter(lambda n:n<=2, lista))\n",
        "print(\"Los num menores o iguales a 2 de la lista: \", lista, \" son: \", resp)"
      ],
      "execution_count": null,
      "outputs": [
        {
          "output_type": "stream",
          "text": [
            "Los num menores o iguales a 2 de la lista:  [1, 2, 3, 5, 2]  son:  [1, 2, 2]\n"
          ],
          "name": "stdout"
        }
      ]
    },
    {
      "cell_type": "code",
      "metadata": {
        "colab": {
          "base_uri": "https://localhost:8080/"
        },
        "id": "c7mq3SuYbl2L",
        "outputId": "7d6aff6c-a96c-4334-ff51-73de621d51e9"
      },
      "source": [
        "from functools import reduce\n",
        "resp = reduce(lambda x,y: x+y, lista)\n",
        "print(\"La suma de los valores de la lista: \", lista, \" es: \", resp)"
      ],
      "execution_count": null,
      "outputs": [
        {
          "output_type": "stream",
          "text": [
            "La suma de los valores de la lista:  [1, 2, 3, 5, 2]  es:  13\n"
          ],
          "name": "stdout"
        }
      ]
    },
    {
      "cell_type": "code",
      "metadata": {
        "id": "7XL1bSJCKk9f",
        "colab": {
          "base_uri": "https://localhost:8080/"
        },
        "outputId": "8bb983c9-667b-4cb1-8369-7ebccab94496"
      },
      "source": [
        "me = [\"Luis Hernandez\", \"Usulutan\", 503, \"2222-2222\", \"luishernandez@ugb.edu.sv\", [4,[5,6,8],6] ]\n",
        "print( me[0][0:4], me[1][0:3], me[5][1][2] )"
      ],
      "execution_count": null,
      "outputs": [
        {
          "output_type": "stream",
          "text": [
            "Luis Usu 8\n"
          ],
          "name": "stdout"
        }
      ]
    },
    {
      "cell_type": "code",
      "metadata": {
        "id": "yN7z9LKaOqVR",
        "colab": {
          "base_uri": "https://localhost:8080/"
        },
        "outputId": "dc71c6a1-69da-4f32-8775-56ff2d99e517"
      },
      "source": [
        "matriz = [\n",
        "          [1,2,3], #0\n",
        "          [2,4],   #1\n",
        "          [8,7,9], #2\n",
        "          [7,0,    #3\n",
        "           [5,8,9.5,7] #4 -> \n",
        "           ,4] #5\n",
        "        ]\n",
        "print( matriz )"
      ],
      "execution_count": null,
      "outputs": [
        {
          "output_type": "stream",
          "text": [
            "[[1, 2, 3], [2, 4], [8, 7, 9], [7, 0, [5, 8, 9.5, 7], 4]]\n"
          ],
          "name": "stdout"
        }
      ]
    },
    {
      "cell_type": "code",
      "metadata": {
        "id": "NalQpSIhQAWa",
        "colab": {
          "base_uri": "https://localhost:8080/"
        },
        "outputId": "0e83e9c7-ab06-442e-d42b-5677a21c683c"
      },
      "source": [
        "lenguajes = {\"PrograI\":\"VB\",\"PrograII\":\"JAVA\",\"PrograIII\":\"Python\"}\n",
        "print( lenguajes, lenguajes[\"PrograI\"] )"
      ],
      "execution_count": null,
      "outputs": [
        {
          "output_type": "stream",
          "text": [
            "{'PrograI': 'VB', 'PrograII': 'JAVA', 'PrograIII': 'Python'} VB\n"
          ],
          "name": "stdout"
        }
      ]
    },
    {
      "cell_type": "code",
      "metadata": {
        "id": "cblw7SY0Q9D7",
        "colab": {
          "base_uri": "https://localhost:8080/"
        },
        "outputId": "c335e871-a490-4d23-85dc-85ad499ad530"
      },
      "source": [
        "mi = {\n",
        "    \"codigo\":\"USIS018804\",\n",
        "    \"nombre\":\"Luis Hernandez\",\n",
        "    \"direccion\":{\n",
        "        \"calle\":\"3Av. Norte, Calle #5, Casa #2\",\n",
        "        \"municipio\":\"Usulutan\",\n",
        "        \"departamento\":\"Usulutan\",\n",
        "        \"pais\":{\n",
        "            \"codigo\":503,\n",
        "            \"codiso\":\"sv\",\n",
        "            \"nombre\":\"El Salvador\",\n",
        "            \"continente\":\"C.A\"\n",
        "        }\n",
        "    },\n",
        "    \"tels\":{\n",
        "        \"oficina\":\"2616-4545\",\n",
        "        \"casa\":\"2615-4545\",\n",
        "        \"celular\":\"7050-2085\"\n",
        "    }\n",
        "}\n",
        "print( mi[\"nombre\"], mi[\"direccion\"][\"calle\"], mi[\"direccion\"][\"pais\"][\"nombre\"], mi[\"tels\"] )"
      ],
      "execution_count": null,
      "outputs": [
        {
          "output_type": "stream",
          "text": [
            "Luis Hernandez 3Av. Norte, Calle #5, Casa #2 El Salvador {'oficina': '2616-4545', 'casa': '2615-4545', 'celular': '7050-2085'}\n"
          ],
          "name": "stdout"
        }
      ]
    },
    {
      "cell_type": "code",
      "metadata": {
        "id": "7BeuLdv4UaKY",
        "colab": {
          "base_uri": "https://localhost:8080/"
        },
        "outputId": "39f45916-980d-47b1-947d-a0f80cd666d8"
      },
      "source": [
        "mi.clear()\n",
        "print( mi )"
      ],
      "execution_count": null,
      "outputs": [
        {
          "output_type": "stream",
          "text": [
            "{}\n"
          ],
          "name": "stdout"
        }
      ]
    },
    {
      "cell_type": "code",
      "metadata": {
        "id": "Ph2GpE41UxUD",
        "colab": {
          "base_uri": "https://localhost:8080/"
        },
        "outputId": "c3c79dec-291a-4737-fba8-f8feee9d723e"
      },
      "source": [
        "copiaMi = mi.copy()\n",
        "print( copiaMi )"
      ],
      "execution_count": null,
      "outputs": [
        {
          "output_type": "stream",
          "text": [
            "{'codigo': 'USIS018804', 'nombre': 'Luis Hernandez', 'direccion': {'calle': '3Av. Norte, Calle #5, Casa #2', 'municipio': 'Usulutan', 'departamento': 'Usulutan', 'pais': {'codigo': 503, 'codiso': 'sv', 'nombre': 'El Salvador', 'continente': 'C.A'}}, 'tels': {'oficina': '2616-4545', 'casa': '2615-4545', 'celular': '7050-2085'}}\n"
          ],
          "name": "stdout"
        }
      ]
    },
    {
      "cell_type": "code",
      "metadata": {
        "id": "0xO2cj8IU-uJ",
        "colab": {
          "base_uri": "https://localhost:8080/"
        },
        "outputId": "902a7ed8-529d-43b7-c9ff-ed8f12641af9"
      },
      "source": [
        "indicesMi = dict.fromkeys(mi)\n",
        "print( indicesMi )"
      ],
      "execution_count": null,
      "outputs": [
        {
          "output_type": "stream",
          "text": [
            "{'codigo': None, 'nombre': None, 'direccion': None, 'tels': None}\n"
          ],
          "name": "stdout"
        }
      ]
    },
    {
      "cell_type": "code",
      "metadata": {
        "id": "dam6xN95WBBm",
        "colab": {
          "base_uri": "https://localhost:8080/"
        },
        "outputId": "faf524fc-7c19-4b13-a51e-d6c554ef3ff2"
      },
      "source": [
        "busqueda = mi.get(\"direccion\")[\"pais\"]\n",
        "print( busqueda )"
      ],
      "execution_count": null,
      "outputs": [
        {
          "output_type": "stream",
          "text": [
            "{'codigo': 503, 'codiso': 'sv', 'nombre': 'El Salvador', 'continente': 'C.A'}\n"
          ],
          "name": "stdout"
        }
      ]
    },
    {
      "cell_type": "code",
      "metadata": {
        "id": "OR5aL-knV43z"
      },
      "source": [
        ""
      ],
      "execution_count": null,
      "outputs": []
    },
    {
      "cell_type": "code",
      "metadata": {
        "id": "D00Mvhn5bbhW",
        "colab": {
          "base_uri": "https://localhost:8080/"
        },
        "outputId": "9edf7154-face-4a10-bbb0-e91665f01cf3"
      },
      "source": [
        "edad = int(input(\"Edad: \"))\n",
        "if edad<18:\n",
        "  print(\"Eres menor de edad.\")\n",
        "print(\"Esto se imprime de todos modos\")"
      ],
      "execution_count": null,
      "outputs": [
        {
          "output_type": "stream",
          "text": [
            "Edad: 15\n",
            "Eres menor de edad.\n",
            "Esto se imprime de todos modos\n"
          ],
          "name": "stdout"
        }
      ]
    },
    {
      "cell_type": "code",
      "metadata": {
        "id": "OJ5xJarEcLmo",
        "colab": {
          "base_uri": "https://localhost:8080/"
        },
        "outputId": "3d9047bc-3d4e-425e-e4c7-3bd75c34956f"
      },
      "source": [
        "edad = int(input(\"Edad: \"))\n",
        "if edad<18:\n",
        "  print(\"Eres menor de edad\")\n",
        "else:\n",
        "  print(\"Eres mayor de edad\")"
      ],
      "execution_count": null,
      "outputs": [
        {
          "output_type": "stream",
          "text": [
            "Edad: 20\n",
            "Eres mayor de edad\n"
          ],
          "name": "stdout"
        }
      ]
    },
    {
      "cell_type": "code",
      "metadata": {
        "id": "tmD9OhXJcw6s",
        "colab": {
          "base_uri": "https://localhost:8080/"
        },
        "outputId": "7563b09e-83c5-4a0d-c012-4c30d09b5301"
      },
      "source": [
        "edad = int(input(\"Edad: \"))\n",
        "if edad<=2:\n",
        "  print(\"Eres un bebe\")\n",
        "elif edad<12:\n",
        "  print(\"Eres un niño\")\n",
        "elif edad<18:\n",
        "  print(\"Eres un adolescente\")\n",
        "elif edad<=60:\n",
        "  print(\"Eres mayor de edad\")\n",
        "elif edad<=80:\n",
        "  print(\"Eres un adulto mayor\")\n",
        "elif edad<=130:\n",
        "  print(\"Larga vida\")\n",
        "else:\n",
        "  print(\"Edad incorrecta\")\n"
      ],
      "execution_count": null,
      "outputs": [
        {
          "output_type": "stream",
          "text": [
            "Edad: 150\n",
            "Edad incorrecta\n"
          ],
          "name": "stdout"
        }
      ]
    },
    {
      "cell_type": "code",
      "metadata": {
        "id": "kdX0JIuHfe4A",
        "colab": {
          "base_uri": "https://localhost:8080/"
        },
        "outputId": "d0424c77-d6af-4757-b2a6-9df885b156c5"
      },
      "source": [
        "i=1\n",
        "n = int(input(\"Table: \"))\n",
        "while i<=10:\n",
        "  print(n,\"X\",i,\"=\",n*i)\n",
        "  i+=1\n",
        "print(\"Termine de imprimir la tabla \", n)"
      ],
      "execution_count": null,
      "outputs": [
        {
          "output_type": "stream",
          "text": [
            "Table: 6\n",
            "6 X 1 = 6\n",
            "6 X 2 = 12\n",
            "6 X 3 = 18\n",
            "6 X 4 = 24\n",
            "6 X 5 = 30\n",
            "6 X 6 = 36\n",
            "6 X 7 = 42\n",
            "6 X 8 = 48\n",
            "6 X 9 = 54\n",
            "6 X 10 = 60\n",
            "Termine de imprimir la tabla  6\n"
          ],
          "name": "stdout"
        }
      ]
    },
    {
      "cell_type": "markdown",
      "metadata": {
        "id": "mZfEzxdwcgeB"
      },
      "source": [
        "Calcular sobre el sueldo las deducciones de ley (isss 3%), AFP 6.25%, ISR (Tabla)"
      ]
    },
    {
      "cell_type": "code",
      "metadata": {
        "id": "vwsT1mN2e89r",
        "colab": {
          "base_uri": "https://localhost:8080/"
        },
        "outputId": "dd58ccc0-3fe3-4c33-ee30-9421c1f30fe2"
      },
      "source": [
        "sueldo = float(input(\"Sueldo: \"))\n",
        "isss = sueldo*0.03\n",
        "afp = sueldo*0.0625\n",
        "sueldoNeto = sueldo-(isss+afp)\n",
        "impSr = 0\n",
        "\n",
        "tablaIsr = [\n",
        "            [0.01,472,0,0],\n",
        "            [472.01,895.24,0.1,17.67],\n",
        "            [895.25, 2038.10, 0.2, 60],\n",
        "            [2038.11,99999,0.30,288.57]\n",
        "]\n",
        "for isr in tablaIsr:\n",
        "  if sueldoNeto>isr[0] and sueldoNeto<=isr[1]:\n",
        "    impSr=(sueldoNeto-isr[0])*isr[2] + isr[3]\n",
        "print(\"Total deducciones\", (isss+afp+impSr), \"Sueldo Neto: \", sueldoNeto-impSr)"
      ],
      "execution_count": null,
      "outputs": [
        {
          "output_type": "stream",
          "name": "stdout",
          "text": [
            "Sueldo: 800\n",
            "Total deducciones 117.069 Sueldo Neto:  682.931\n"
          ]
        }
      ]
    },
    {
      "cell_type": "markdown",
      "metadata": {
        "id": "DCt62iwa2JxZ"
      },
      "source": [
        "Ejercicios de Tarea:\n",
        "1. Convertir de Celsius de Fahrenheit\n",
        "2. Calcular la edad de una persona.\n",
        "3. Obtener la nota final de ciclo\n",
        "\n",
        "Tarea:\n",
        "Convertir de Celsius de Fahrenheit usando lambda\n",
        "Calcular la edad de una persona. usando lambda\n",
        "Obtener la nota final de ciclo usando lambda y build-in(map, filter, reduce)"
      ]
    },
    {
      "cell_type": "markdown",
      "metadata": {
        "id": "p9o9VVlQ26PP"
      },
      "source": [
        "CONVERSORES: Monedas, Longitud, Masa, Almacenamiento, etc..."
      ]
    },
    {
      "cell_type": "code",
      "metadata": {
        "colab": {
          "base_uri": "https://localhost:8080/"
        },
        "id": "Mjs6T7FG3A6L",
        "outputId": "6236a458-496e-4617-b7be-a274d5110714"
      },
      "source": [
        "etiquetas = [\n",
        "            [],#0\n",
        "            [0,\"1. Dolar\",\"2. Peso Mexicano\",\"3. Quetzalez\",\"4. Colon SV\",\"5. Lempiras\",\"6. Cordobas\",\"7. Colon CR\"],#monedas\n",
        "            [0,\"1. Metro\", \"2. CM\",\"3. Pulgadas\",\"4. Pies\",\"5. Varas\", \"6. Yardas\",\"7. Km\",\"8. Millas\"],#Longitud\n",
        "            [0,\"1. Libra\", \"2. Gramos\", \"3. Kilogramos\",\"4. Onza\",\"5. Tonelada Corta\"], #Masa\n",
        "            [0, \"1. MB\", \"2. Bits\", \"3. Byte\", \"4. KB\", \"5. GB\", \"6. TB\"] #Almacenamiento\n",
        "]\n",
        "valores = [\n",
        "           [],#\n",
        "           [0, 1, 19.91, 7.74, 8.75, 23.96, 35.11, 624.24],\n",
        "           [0,1,100,39.37,3.28,1.1963081929167, 1.09, 0.001, 0.00053],\n",
        "           [0,1,453.59, 0.45, 16, 0.0005],\n",
        "           [0, 1,8388608, 1048576, 1024,0.0009765625,0.0000000953674316]\n",
        "]\n",
        "def conversores(opcion, de, a, cantidad):\n",
        "  return valores[opcion][a] / valores[opcion][de] * cantidad\n",
        "\n",
        "print(\" ** MENU CONVERSORES ** \")\n",
        "print(\" 1. Monedas, \\n 2. Longitud \\n 3. Masa \\n 4. Almacenamiento \")\n",
        "opcion = int(input(\"CONVERSOR: \"))\n",
        "\n",
        "print( etiquetas[opcion] )\n",
        "de = int(input(\"DE: \"))\n",
        "a = int(input(\"A: \"))\n",
        "cantidad = float(input(\"Cantidad: \"))\n",
        "\n",
        "print( etiquetas[opcion][de], \" a \", etiquetas[opcion][a], \" es: \", conversores(opcion, de, a, cantidad) )"
      ],
      "execution_count": null,
      "outputs": [
        {
          "output_type": "stream",
          "name": "stdout",
          "text": [
            " ** MENU CONVERSORES ** \n",
            " 1. Monedas, \n",
            " 2. Longitud \n",
            " 3. Masa \n",
            " 4. Almacenamiento \n",
            "CONVERSOR: 4\n",
            "[0, '1. MB', '2. Bits', '3. Byte', '4. KB', '5. GB', '6. TB']\n",
            "DE: 5\n",
            "A: 1\n",
            "Cantidad: 1\n",
            "5. GB  a  1. MB  es:  1024.0\n"
          ]
        }
      ]
    },
    {
      "cell_type": "markdown",
      "metadata": {
        "id": "VRD86acKFBxT"
      },
      "source": [
        "Tabla de Meses acumulados"
      ]
    },
    {
      "cell_type": "code",
      "metadata": {
        "colab": {
          "base_uri": "https://localhost:8080/"
        },
        "id": "tjhldQjnFBTg",
        "outputId": "986629a3-4bd1-4e9a-bb33-7d9298bf1c76"
      },
      "source": [
        "nmeses = int(input(\"Meses: \"))\n",
        "i = 0\n",
        "acumulacion = 0\n",
        "while( i<= nmeses ):\n",
        "  acumulacion += i\n",
        "  i+=1\n",
        "print(\"Meses: \", nmeses, \" acumulado: \", acumulacion)"
      ],
      "execution_count": null,
      "outputs": [
        {
          "output_type": "stream",
          "name": "stdout",
          "text": [
            "Meses: 200\n",
            "Meses:  200  acumulado:  20100\n"
          ]
        }
      ]
    },
    {
      "cell_type": "code",
      "metadata": {
        "id": "ZNinjf2OWAYg",
        "colab": {
          "base_uri": "https://localhost:8080/"
        },
        "outputId": "d4718343-9b82-4c28-d358-1afae66fbe27"
      },
      "source": [
        "nmeses = int(input(\"Meses: \"))\n",
        "acumulado = nmeses*(nmeses/2+0.5)\n",
        "print(\"El acumulado de \", nmeses, \" es: \", acumulado)"
      ],
      "execution_count": null,
      "outputs": [
        {
          "output_type": "stream",
          "name": "stdout",
          "text": [
            "Meses: 200\n",
            "El acumulado de  200  es:  20100.0\n"
          ]
        }
      ]
    },
    {
      "cell_type": "code",
      "metadata": {
        "id": "I9zZXJFW7ynw"
      },
      "source": [
        "import pandas as pd\n",
        "import matplotlib.pyplot as plt\n"
      ],
      "execution_count": 1,
      "outputs": []
    },
    {
      "cell_type": "code",
      "metadata": {
        "id": "_hlQ6Gur-DBV",
        "colab": {
          "base_uri": "https://localhost:8080/"
        },
        "outputId": "1c177133-c78c-4baa-f9e3-de87eec8ee54"
      },
      "source": [
        "lenguajesProgra = pd.Series([\"VB\", \"JAVA\",\"Python\", \"HTML\", \"CSS\", \"JS\", \"C#\", \"PHP\", \"XML\"]\n",
        "                            , index=[1,2,3,4,4,4,5,4,2])\n",
        "#print(lenguajesProgra, lenguajesProgra[4])\n",
        "\n",
        "misLenguajes = {\n",
        "    1:\"VB\",\n",
        "    2:\"JAVA\",\n",
        "    3:\"Python\",\n",
        "    4:\"HTML\",\n",
        "    5:\"CSS\",\n",
        "    6:\"JS\",\n",
        "    0:\"C#\",\n",
        "    8:\"PHP\",\n",
        "    10:\"XML\"\n",
        "}\n",
        "diccionarioLenguajes = pd.Series(misLenguajes)\n",
        "print(diccionarioLenguajes, diccionarioLenguajes[1])"
      ],
      "execution_count": null,
      "outputs": [
        {
          "output_type": "stream",
          "name": "stdout",
          "text": [
            "1         VB\n",
            "2       JAVA\n",
            "3     Python\n",
            "4       HTML\n",
            "5        CSS\n",
            "6         JS\n",
            "0         C#\n",
            "8        PHP\n",
            "10       XML\n",
            "dtype: object VB\n"
          ]
        }
      ]
    },
    {
      "cell_type": "code",
      "metadata": {
        "id": "0hlh853zGdWg",
        "colab": {
          "base_uri": "https://localhost:8080/",
          "height": 452
        },
        "outputId": "2717f70b-9319-4e58-9c9f-9a2dc7cf7839"
      },
      "source": [
        "archivo = pd.read_csv(\"/content/notas.csv\",sep=\";\",encoding=\"utf-8\")\n",
        "#print(archivo, archivo[\"notas\"])\n",
        "\n",
        "procesar = pd.crosstab(index=archivo[\"notas\"],columns=\"cant_veces_repite\")\n",
        "#print(procesar)\n",
        "\n",
        "agrupando = archivo.groupby([\"notas\"]).agg({lambda x:x+\",\"})\n",
        "print(agrupando)\n",
        "\n",
        "plt.pie(procesar, labels=procesar.index)\n",
        "plt.xlabel(\"Notas por estudiante\")\n",
        "plt.show()"
      ],
      "execution_count": 26,
      "outputs": [
        {
          "output_type": "stream",
          "name": "stdout",
          "text": [
            "                               alumnos\n",
            "                              <lambda>\n",
            "notas                                 \n",
            "2                               Julio,\n",
            "5             [Jose,, abel,, abigail,]\n",
            "8      [Luis,, Juan,, Carmen,, julia,]\n",
            "9                               Pedro,\n",
            "10                           fernando,\n"
          ]
        },
        {
          "output_type": "stream",
          "name": "stderr",
          "text": [
            "/usr/local/lib/python3.7/dist-packages/ipykernel_launcher.py:10: MatplotlibDeprecationWarning: Non-1D inputs to pie() are currently squeeze()d, but this behavior is deprecated since 3.1 and will be removed in 3.3; pass a 1D array instead.\n",
            "  # Remove the CWD from sys.path while we load stuff.\n"
          ]
        },
        {
          "output_type": "display_data",
          "data": {
            "image/png": "[encoded data removed]",
            "text/plain": [
              "<Figure size 432x288 with 1 Axes>"
            ]
          },
          "metadata": {}
        }
      ]
    },
    {
      "cell_type": "code",
      "metadata": {
        "id": "oCI3zWAgJXxB",
        "outputId": "699c2d97-2a73-4423-9319-dfd5951f1790",
        "colab": {
          "base_uri": "https://localhost:8080/"
        }
      },
      "source": [
        "usuarios = pd.read_csv(\"/content/usuarios.csv\", sep=\";\", encoding=\"latin-1\")\n",
        "#print(usuarios)\n",
        "\n",
        "peliculas = pd.read_csv(\"/content/peliculas.csv\", sep=\";\", encoding=\"latin-1\")\n",
        "#print(peliculas)\n",
        "\n",
        "usuariosPeliculas = pd.read_csv(\"/content/usuariosPeliculas.csv\", sep=\";\")\n",
        "#print(usuariosPeliculas)\n",
        "\n",
        "unionUsuarioPelicula =pd.merge( pd.merge(usuarios, usuariosPeliculas), peliculas, on=\"idPelicula\")\n",
        "print(unionUsuarioPelicula)\n",
        "#print(unionUsuarioPelicula[\"nombre\"], unionUsuarioPelicula[\"titulo\"], unionUsuarioPelicula[\"aceptacion\"])"
      ],
      "execution_count": 50,
      "outputs": [
        {
          "output_type": "stream",
          "name": "stdout",
          "text": [
            "   idUsuario          nombre genero_x  ... duracion  genero_y clasificacion\n",
            "0          1  Luis Hernandez        M  ...      153   comedia             A\n",
            "1          1  Luis Hernandez        M  ...       90  aventura             A\n",
            "2          2      Juan Perez        M  ...      162   ficcion             C\n",
            "3          3     Jorge Azama        M  ...      150   ficcion             C\n",
            "4          4    Juan Vazquez        M  ...      150    terror             D\n",
            "5          5  Maria Fernanda        F  ...      163  aventura             A\n",
            "\n",
            "[6 rows x 14 columns]\n"
          ]
        }
      ]
    }
  ]
}