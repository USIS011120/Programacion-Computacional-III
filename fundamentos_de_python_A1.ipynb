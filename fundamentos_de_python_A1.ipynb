{
  "nbformat": 4,
  "nbformat_minor": 0,
  "metadata": {
    "colab": {
      "name": "fundamentos de python A1.ipynb",
      "provenance": [],
      "collapsed_sections": [],
      "include_colab_link": true
    },
    "kernelspec": {
      "name": "python3",
      "display_name": "Python 3"
    },
    "language_info": {
      "name": "python"
    }
  },
  "cells": [
    {
      "cell_type": "markdown",
      "metadata": {
        "id": "view-in-github",
        "colab_type": "text"
      },
      "source": [
        "<a href=\"https://colab.research.google.com/github/luishernandezpw/Programacion-Computacional-III/blob/main/fundamentos_de_python_A1.ipynb\" target=\"_parent\"><img src=\"https://colab.research.google.com/assets/colab-badge.svg\" alt=\"Open In Colab\"/></a>"
      ]
    },
    {
      "cell_type": "code",
      "metadata": {
        "colab": {
          "base_uri": "https://localhost:8080/"
        },
        "id": "7rzRTP0Z6KeG",
        "outputId": "08cadd1a-22b4-4af2-c128-07011cd3113b"
      },
      "source": [
        "print(\"Hola mundo\", \"Bienvenidos a Progra III con Python\", \"Hola chicos, que tal...\")"
      ],
      "execution_count": null,
      "outputs": [
        {
          "output_type": "stream",
          "text": [
            "Hola mundo Bienvenidos a Progra III con Python Hola chicos, que tal...\n"
          ],
          "name": "stdout"
        }
      ]
    },
    {
      "cell_type": "code",
      "metadata": {
        "colab": {
          "base_uri": "https://localhost:8080/"
        },
        "id": "yq3BQrLi_r5_",
        "outputId": "379c53fd-fdb8-4446-c0a6-db4b3d7328c8"
      },
      "source": [
        "saludo = \"hola\"\n",
        "print(saludo + \" Mundo\")\n",
        "print( saludo[1] )"
      ],
      "execution_count": null,
      "outputs": [
        {
          "output_type": "stream",
          "text": [
            "hola Mundo\n",
            "o\n"
          ],
          "name": "stdout"
        }
      ]
    },
    {
      "cell_type": "code",
      "metadata": {
        "colab": {
          "base_uri": "https://localhost:8080/"
        },
        "id": "3TwOVC3KATsg",
        "outputId": "8be15b03-42eb-47f2-e9b6-aa871eb53c3e"
      },
      "source": [
        "nombre = input(\"Como te llamas: \")\n",
        "print(\"Hola \"+nombre, \"Tu letra inicial es: \", nombre[0], \"Tu nombre tiene: \", nombre.__len__(), \" caracteres\" )"
      ],
      "execution_count": null,
      "outputs": [
        {
          "output_type": "stream",
          "text": [
            "Como te llamas: Luis\n",
            "Hola Luis Tu letra inicial es:  L Tu nombre tiene:  4  caracteres\n"
          ],
          "name": "stdout"
        }
      ]
    },
    {
      "cell_type": "code",
      "metadata": {
        "colab": {
          "base_uri": "https://localhost:8080/"
        },
        "id": "TUSteExIA-13",
        "outputId": "4858bddf-aa3b-4f58-fa27-7d303e70e4d1"
      },
      "source": [
        "num1 = 5\n",
        "num2 = 5.5\n",
        "resp = num1 + num2\n",
        "print(\"La suma es: \", resp)"
      ],
      "execution_count": null,
      "outputs": [
        {
          "output_type": "stream",
          "text": [
            "La suma es:  10.5\n"
          ],
          "name": "stdout"
        }
      ]
    },
    {
      "cell_type": "code",
      "metadata": {
        "colab": {
          "base_uri": "https://localhost:8080/"
        },
        "id": "0WARfPLGBJuO",
        "outputId": "1691b231-1add-4116-89e7-fe1bf96c79d1"
      },
      "source": [
        "num1 = input(\"Num1: \")\n",
        "num2 = input(\"Num2: \")\n",
        "resp = float(num1) + float(num2) # \"5.5\"-> 5.5\n",
        "print(\"La suma es: \", resp)"
      ],
      "execution_count": null,
      "outputs": [
        {
          "output_type": "stream",
          "text": [
            "Num1: 5\n",
            "Num2: 5.5\n",
            "La suma es:  10.5\n"
          ],
          "name": "stdout"
        }
      ]
    },
    {
      "cell_type": "code",
      "metadata": {
        "colab": {
          "base_uri": "https://localhost:8080/"
        },
        "id": "6tvB4eeOB0oF",
        "outputId": "29e37cc9-998c-46f3-a179-00b4c01ad70b"
      },
      "source": [
        "num1 = input(\"Num1: \")\n",
        "num1 = float(num1)\n",
        "num2 = float(input(\"Num2: \"))\n",
        "resp = num1 + num2 # \"5.5\"-> 5.5\n",
        "print(\"La suma es: \", resp, num1 + num2)"
      ],
      "execution_count": null,
      "outputs": [
        {
          "output_type": "stream",
          "text": [
            "Num1: 5.4\n",
            "Num2: 6.8\n",
            "La suma es:  12.2 12.2\n"
          ],
          "name": "stdout"
        }
      ]
    },
    {
      "cell_type": "code",
      "metadata": {
        "colab": {
          "base_uri": "https://localhost:8080/"
        },
        "id": "8gDiWH0QClfu",
        "outputId": "471c16dc-cb4b-4205-b767-3536a5a1beff"
      },
      "source": [
        "print(\"Hola nuevamente\", nombre)"
      ],
      "execution_count": null,
      "outputs": [
        {
          "output_type": "stream",
          "text": [
            "Hola nuevamente Luis\n"
          ],
          "name": "stdout"
        }
      ]
    },
    {
      "cell_type": "code",
      "metadata": {
        "colab": {
          "base_uri": "https://localhost:8080/"
        },
        "id": "PYZvkp-YGN9O",
        "outputId": "98e6b0bb-f8d7-4bab-9d03-8ac4eb0c3b5d"
      },
      "source": [
        "gustaPython = True\n",
        "print(\"hola \", nombre, \" te gusta python \", gustaPython)"
      ],
      "execution_count": null,
      "outputs": [
        {
          "output_type": "stream",
          "text": [
            "hola  Luis  te gusta python  True\n"
          ],
          "name": "stdout"
        }
      ]
    },
    {
      "cell_type": "code",
      "metadata": {
        "colab": {
          "base_uri": "https://localhost:8080/"
        },
        "id": "26z8jE4AGp5x",
        "outputId": "420e6859-659d-42ee-e409-3f04b9718fc0"
      },
      "source": [
        "print( \"nombre: \", type(nombre), \"num1: \",type(num1), \"num2: \",type(num2), \"resp: \",type(resp), \"gustaPython: \", type(gustaPython), \"1\", type(1))"
      ],
      "execution_count": null,
      "outputs": [
        {
          "output_type": "stream",
          "text": [
            "nombre:  <class 'str'> num1:  <class 'float'> num2:  <class 'float'> resp:  <class 'float'> gustaPython:  <class 'bool'> 1 <class 'int'>\n"
          ],
          "name": "stdout"
        }
      ]
    },
    {
      "cell_type": "code",
      "metadata": {
        "colab": {
          "base_uri": "https://localhost:8080/"
        },
        "id": "Ao9X3GBZHa4S",
        "outputId": "a88a8972-2252-4b01-a8d6-d2e480e2407f"
      },
      "source": [
        "print(\"resp: \"+ str(resp) )"
      ],
      "execution_count": null,
      "outputs": [
        {
          "output_type": "stream",
          "text": [
            "resp: 12.2\n"
          ],
          "name": "stdout"
        }
      ]
    },
    {
      "cell_type": "code",
      "metadata": {
        "colab": {
          "base_uri": "https://localhost:8080/"
        },
        "id": "-nvx42xkI-Sq",
        "outputId": "506381da-1313-4fe9-e7a5-f764145987d0"
      },
      "source": [
        "def suma(num1, num2):\n",
        "  resp = num1 + num2\n",
        "  return resp\n",
        "num1 = float(input(\"Num1: \"))\n",
        "num2 = float(input(\"Nnum2: \"))\n",
        "resp = suma(num1,num2)\n",
        "print(resp)"
      ],
      "execution_count": null,
      "outputs": [
        {
          "output_type": "stream",
          "text": [
            "Num1: 8.4\n",
            "Nnum2: 9.8\n",
            "18.200000000000003\n"
          ],
          "name": "stdout"
        }
      ]
    },
    {
      "cell_type": "code",
      "metadata": {
        "colab": {
          "base_uri": "https://localhost:8080/"
        },
        "id": "JlAIlyTk72Kx",
        "outputId": "d311ed89-cae8-4a7b-d621-7a80b18b8b5c"
      },
      "source": [
        "num1 = int(input(\"Num1: \"))\n",
        "num2 = int(input(\"Num2: \"))\n",
        "print(\"Los numero\", str(num1), \",\", str(num2), \" son iguales: \", str(num1==num2) )"
      ],
      "execution_count": null,
      "outputs": [
        {
          "output_type": "stream",
          "text": [
            "Num1: 4\n",
            "Num2: 4\n",
            "Los numero 4 , 4  son iguales:  True\n"
          ],
          "name": "stdout"
        }
      ]
    },
    {
      "cell_type": "code",
      "metadata": {
        "colab": {
          "base_uri": "https://localhost:8080/"
        },
        "id": "06KQVMOP-75d",
        "outputId": "5ce35fab-2bc4-4e0d-bac4-91b2cdc57827"
      },
      "source": [
        "def convertirFC(f):\n",
        "  c = (f-32)*5/9\n",
        "  return c\n",
        "\n",
        "f = float(input(\"F: \"))\n",
        "print(\"F: \", str(f), \" a celsius: \", str( convertirFC(f) ))"
      ],
      "execution_count": null,
      "outputs": [
        {
          "output_type": "stream",
          "text": [
            "F: 105.5\n",
            "F:  105.5  a celsius:  40.833333333333336\n"
          ],
          "name": "stdout"
        }
      ]
    },
    {
      "cell_type": "code",
      "metadata": {
        "colab": {
          "base_uri": "https://localhost:8080/"
        },
        "id": "ZYVmFupFBHEn",
        "outputId": "02ce9f5b-d73d-4fd1-d48f-a5fb1afe9b17"
      },
      "source": [
        "numHrs = int(input(\"Num. de Hrs trabajadas: \"))\n",
        "valorHr = float(input(\"Valor por hr: \"))\n",
        "\n",
        "sueldo = numHrs*valorHr*30\n",
        "print(\"Sueldo: \", sueldo)"
      ],
      "execution_count": null,
      "outputs": [
        {
          "output_type": "stream",
          "text": [
            "Num. de Hrs trabajadas: 10\n",
            "Valor por hr: 4.5\n",
            "Sueldo:  1350.0\n"
          ],
          "name": "stdout"
        }
      ]
    },
    {
      "cell_type": "code",
      "metadata": {
        "colab": {
          "base_uri": "https://localhost:8080/"
        },
        "id": "XE6stugPCGEK",
        "outputId": "af93087c-ccad-45a5-c2dd-2e3706ebda06"
      },
      "source": [
        "def calcularSueldo(numHrs, valorHr):\n",
        "  hrsExtras = 0\n",
        "  if( numHrs>8 ):\n",
        "    hrsExtras = numHrs-8\n",
        "  sueldo = (8*valorHr + hrsExtras*valorHr*2)*30\n",
        "  return sueldo\n",
        "\n",
        "numHrs = int(input(\"Num. hrs trabajadas: \"))\n",
        "valorHr = float(input(\"Valor x hr: \"))\n",
        "print(\"Sueldo: \", str(calcularSueldo(numHrs, valorHr)))"
      ],
      "execution_count": null,
      "outputs": [
        {
          "output_type": "stream",
          "text": [
            "Num. hrs trabajadas: 10\n",
            "Valor x hr: 4.5\n",
            "Sueldo:  1620.0\n"
          ],
          "name": "stdout"
        }
      ]
    },
    {
      "cell_type": "code",
      "metadata": {
        "colab": {
          "base_uri": "https://localhost:8080/"
        },
        "id": "Lz3yN33_E5oR",
        "outputId": "c3e5a49c-c340-45ca-cef4-83a83a88e640"
      },
      "source": [
        "prioridad = 7- 5*2 - 4/4 *2 #5*2=10   4/4=1   1*2=2   7-10-2= -5\n",
        "print(str(prioridad))"
      ],
      "execution_count": null,
      "outputs": [
        {
          "output_type": "stream",
          "text": [
            "-5.0\n"
          ],
          "name": "stdout"
        }
      ]
    },
    {
      "cell_type": "markdown",
      "metadata": {
        "id": "mnvZb9fxNfEr"
      },
      "source": [
        "Ejercicio de clase: 1. **Convertir** de Grados Celsius a Fahrenheit."
      ]
    },
    {
      "cell_type": "code",
      "metadata": {
        "id": "WS53NEXGNsCX"
      },
      "source": [
        ""
      ],
      "execution_count": null,
      "outputs": []
    },
    {
      "cell_type": "markdown",
      "metadata": {
        "id": "95E_92CmNzCL"
      },
      "source": [
        "Ejercicios de Tarea: \n",
        "1. Convertir de Celsius de Fahrenheit\n",
        "2. Calcular la edad de una persona.\n",
        "3. Obtener la nota final de ciclo\n",
        "\n",
        "Tarea: \n",
        "1. Convertir de Celsius de Fahrenheit usando lambda\n",
        "2. Calcular la edad de una persona. usando lambda\n",
        "3. Obtener la nota final de ciclo usando lambda y build-in(map, filter, reduce)"
      ]
    },
    {
      "cell_type": "code",
      "metadata": {
        "id": "3sghW7eB9efF",
        "outputId": "f134830b-7bd2-479c-af38-6a73abbc489a",
        "colab": {
          "base_uri": "https://localhost:8080/"
        }
      },
      "source": [
        "suma = lambda num1,num2: num1+num2\n",
        "num1 = float(input(\"Num1: \"))\n",
        "num2 = float(input(\"Num2: \"))\n",
        "print(\"La suma es: \", suma(num1,num2))"
      ],
      "execution_count": 1,
      "outputs": [
        {
          "output_type": "stream",
          "text": [
            "Num1: 5\n",
            "Num2: 7\n",
            "La suma es:  12.0\n"
          ],
          "name": "stdout"
        }
      ]
    },
    {
      "cell_type": "code",
      "metadata": {
        "id": "KOUBB1Ac-uC-",
        "outputId": "110369c5-27b9-4a01-d24a-33da35ea006f",
        "colab": {
          "base_uri": "https://localhost:8080/"
        }
      },
      "source": [
        "conversion = lambda f:(f-32)*5/9\n",
        "f = float(input(\"Fahrenheit: \"))\n",
        "print(\"Grados F: \", f, \" a C: \", conversion(f))"
      ],
      "execution_count": 2,
      "outputs": [
        {
          "output_type": "stream",
          "text": [
            "Fahrenheit: 105.5\n",
            "Grados F:  105.5  a C:  40.833333333333336\n"
          ],
          "name": "stdout"
        }
      ]
    },
    {
      "cell_type": "code",
      "metadata": {
        "id": "6nsniU_ZCuk-",
        "outputId": "25d4bdf1-ca6b-4f04-be1c-b5d29e5286e3",
        "colab": {
          "base_uri": "https://localhost:8080/"
        }
      },
      "source": [
        "cuadrado = lambda n:n**2\n",
        "n = int(input(\"N: \"))\n",
        "print(\"N: \", n, \" al cuadrado es: \", cuadrado(n))"
      ],
      "execution_count": 4,
      "outputs": [
        {
          "output_type": "stream",
          "text": [
            "N: 3\n",
            "N:  3  al cuadrado es:  9\n"
          ],
          "name": "stdout"
        }
      ]
    },
    {
      "cell_type": "code",
      "metadata": {
        "id": "H5qbXQwgDUfS",
        "outputId": "05beabe8-e5a3-484e-98c2-93fc600de72b",
        "colab": {
          "base_uri": "https://localhost:8080/"
        }
      },
      "source": [
        "cubo = lambda n:n**3\n",
        "n = int(input(\"n: \"))\n",
        "print(\"N: \", n, \" al cubo es: \", cubo(n))"
      ],
      "execution_count": 5,
      "outputs": [
        {
          "output_type": "stream",
          "text": [
            "n: 3\n",
            "N:  3  al cubo es:  27\n"
          ],
          "name": "stdout"
        }
      ]
    },
    {
      "cell_type": "code",
      "metadata": {
        "id": "BCIK0LyXDotB",
        "outputId": "55ed7d03-eb40-41c1-984a-b863587eccbf",
        "colab": {
          "base_uri": "https://localhost:8080/"
        }
      },
      "source": [
        "exp = lambda n,e:n**e\n",
        "n = int(input(\"N: \"))\n",
        "e = int(input(\"Exponente: \"))\n",
        "print(n, \" elevado al exp : \", e, \" es: \", exp(n,e))"
      ],
      "execution_count": 10,
      "outputs": [
        {
          "output_type": "stream",
          "text": [
            "N: 3\n",
            "Exponente: 4\n",
            "3  elevado al exp :  4  es:  81\n"
          ],
          "name": "stdout"
        }
      ]
    },
    {
      "cell_type": "code",
      "metadata": {
        "id": "3f17iY2gFHn4",
        "outputId": "d3c330a7-f368-488a-f4d3-9420a0b9b44a",
        "colab": {
          "base_uri": "https://localhost:8080/"
        }
      },
      "source": [
        "lista = [1,2,3,4]\n",
        "resp = list(map(lambda n:n*2, lista))\n",
        "print(resp)\n"
      ],
      "execution_count": 34,
      "outputs": [
        {
          "output_type": "stream",
          "text": [
            "[2, 4, 6, 8]\n"
          ],
          "name": "stdout"
        }
      ]
    },
    {
      "cell_type": "code",
      "metadata": {
        "id": "sW-Vx1w5FtOM",
        "outputId": "776363f1-94e6-4e53-80ba-12cab07e5479",
        "colab": {
          "base_uri": "https://localhost:8080/"
        }
      },
      "source": [
        "gf_depto = [85,58,105]\n",
        "c_depto = list(map(conversion, gf_depto))\n",
        "print(\"Los grados F: \", gf_depto, \" en celsius es: \", c_depto)"
      ],
      "execution_count": 13,
      "outputs": [
        {
          "output_type": "stream",
          "text": [
            "Los grados F:  [85, 58, 105]  en celsius es:  [29.444444444444443, 14.444444444444445, 40.55555555555556]\n"
          ],
          "name": "stdout"
        }
      ]
    },
    {
      "cell_type": "code",
      "metadata": {
        "id": "ky6wGH-lGpuR",
        "outputId": "928023d6-1e6f-4243-da6b-0c93913fc6ef",
        "colab": {
          "base_uri": "https://localhost:8080/"
        }
      },
      "source": [
        "resp = list(map(cuadrado, lista))\n",
        "print(\"La lista \", lista, \" el cuadrado es: \", resp)"
      ],
      "execution_count": 14,
      "outputs": [
        {
          "output_type": "stream",
          "text": [
            "La lista  [1, 2, 3]  el cuadrado es:  [1, 4, 9]\n"
          ],
          "name": "stdout"
        }
      ]
    },
    {
      "cell_type": "code",
      "metadata": {
        "id": "-1-UZFs_G8z1",
        "outputId": "f29ebcb0-2d36-4be4-b915-a26c560ba63a",
        "colab": {
          "base_uri": "https://localhost:8080/"
        }
      },
      "source": [
        "resp = list(map(cubo, lista))\n",
        "print(\"La lista \", lista, \" el cubo es: \", resp)"
      ],
      "execution_count": 15,
      "outputs": [
        {
          "output_type": "stream",
          "text": [
            "La lista  [1, 2, 3]  el cubo es:  [1, 8, 27]\n"
          ],
          "name": "stdout"
        }
      ]
    },
    {
      "cell_type": "code",
      "metadata": {
        "id": "zwOFlJ78Hlrs",
        "outputId": "82699d0e-f73b-460d-acec-fccc7d10cb44",
        "colab": {
          "base_uri": "https://localhost:8080/"
        }
      },
      "source": [
        "resp = list(filter(lambda n:n>2, lista))\n",
        "print(\"Los numeros <= 2 de la lista \", lista, \" son: \", resp)"
      ],
      "execution_count": 18,
      "outputs": [
        {
          "output_type": "stream",
          "text": [
            "Los numeros <= 2 de la lista  [1, 2, 3]  son:  [3]\n"
          ],
          "name": "stdout"
        }
      ]
    },
    {
      "cell_type": "code",
      "metadata": {
        "id": "j2EsVBxPIOnU",
        "outputId": "ac393152-a9e9-405b-cacc-93cb49693cfa",
        "colab": {
          "base_uri": "https://localhost:8080/"
        }
      },
      "source": [
        "resp = list(filter(lambda n:n%2==0, lista))\n",
        "print(\"Los numeros pares de la lista \", lista, \" son: \", resp)"
      ],
      "execution_count": 28,
      "outputs": [
        {
          "output_type": "stream",
          "text": [
            "Los numeros pares de la lista  [1, 2, 3, 5, 8, 7, 9, 12, 11, 2]  son:  [2, 8, 12, 2]\n"
          ],
          "name": "stdout"
        }
      ]
    },
    {
      "cell_type": "code",
      "metadata": {
        "id": "4o8cSg1_I02H",
        "outputId": "aec48c81-1bbc-47c5-d50c-b2e5a4fed4fe",
        "colab": {
          "base_uri": "https://localhost:8080/"
        }
      },
      "source": [
        "resp = list(filter(lambda n:n%2, lista)) #True, False, 1/2 = 0.5->1->True, 2/2=0 -> False\n",
        "print(\"Los numeros impares de la lista \", lista, \" son \", resp)"
      ],
      "execution_count": 30,
      "outputs": [
        {
          "output_type": "stream",
          "text": [
            "Los numeros impares de la lista  [1, 2, 3, 5, 8, 7, 9, 12, 11, 2]  son  [1, 3, 5, 7, 9, 11]\n"
          ],
          "name": "stdout"
        }
      ]
    },
    {
      "cell_type": "code",
      "metadata": {
        "id": "UPLopWZNMsLm",
        "outputId": "15ffebc2-a9bd-4fbd-dd16-d93b0119a2ed",
        "colab": {
          "base_uri": "https://localhost:8080/"
        }
      },
      "source": [
        "from functools import reduce\n",
        "resp = reduce(lambda x,y:x+y, lista)\n",
        "print(\"La suma de la lista \", lista, \" es: \", resp, \" la media es: \", resp/len(lista))"
      ],
      "execution_count": 36,
      "outputs": [
        {
          "output_type": "stream",
          "text": [
            "La suma de la lista  [1, 2, 3, 4]  es:  10  la media es:  2.5\n"
          ],
          "name": "stdout"
        }
      ]
    }
  ]
}