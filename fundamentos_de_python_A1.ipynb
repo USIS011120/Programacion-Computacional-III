{
  "nbformat": 4,
  "nbformat_minor": 0,
  "metadata": {
    "colab": {
      "name": "fundamentos de python A1.ipynb",
      "provenance": [],
      "collapsed_sections": [],
      "include_colab_link": true
    },
    "kernelspec": {
      "name": "python3",
      "display_name": "Python 3"
    },
    "language_info": {
      "name": "python"
    }
  },
  "cells": [
    {
      "cell_type": "markdown",
      "metadata": {
        "id": "view-in-github",
        "colab_type": "text"
      },
      "source": [
        "<a href=\"https://colab.research.google.com/github/luishernandezpw/Programacion-Computacional-III/blob/main/fundamentos_de_python_A1.ipynb\" target=\"_parent\"><img src=\"https://colab.research.google.com/assets/colab-badge.svg\" alt=\"Open In Colab\"/></a>"
      ]
    },
    {
      "cell_type": "code",
      "metadata": {
        "colab": {
          "base_uri": "https://localhost:8080/"
        },
        "id": "7rzRTP0Z6KeG",
        "outputId": "08cadd1a-22b4-4af2-c128-07011cd3113b"
      },
      "source": [
        "print(\"Hola mundo\", \"Bienvenidos a Progra III con Python\", \"Hola chicos, que tal...\")"
      ],
      "execution_count": null,
      "outputs": [
        {
          "output_type": "stream",
          "text": [
            "Hola mundo Bienvenidos a Progra III con Python Hola chicos, que tal...\n"
          ],
          "name": "stdout"
        }
      ]
    },
    {
      "cell_type": "code",
      "metadata": {
        "colab": {
          "base_uri": "https://localhost:8080/"
        },
        "id": "yq3BQrLi_r5_",
        "outputId": "379c53fd-fdb8-4446-c0a6-db4b3d7328c8"
      },
      "source": [
        "saludo = \"hola\"\n",
        "print(saludo + \" Mundo\")\n",
        "print( saludo[1] )"
      ],
      "execution_count": null,
      "outputs": [
        {
          "output_type": "stream",
          "text": [
            "hola Mundo\n",
            "o\n"
          ],
          "name": "stdout"
        }
      ]
    },
    {
      "cell_type": "code",
      "metadata": {
        "colab": {
          "base_uri": "https://localhost:8080/"
        },
        "id": "3TwOVC3KATsg",
        "outputId": "8be15b03-42eb-47f2-e9b6-aa871eb53c3e"
      },
      "source": [
        "nombre = input(\"Como te llamas: \")\n",
        "print(\"Hola \"+nombre, \"Tu letra inicial es: \", nombre[0], \"Tu nombre tiene: \", nombre.__len__(), \" caracteres\" )"
      ],
      "execution_count": null,
      "outputs": [
        {
          "output_type": "stream",
          "text": [
            "Como te llamas: Luis\n",
            "Hola Luis Tu letra inicial es:  L Tu nombre tiene:  4  caracteres\n"
          ],
          "name": "stdout"
        }
      ]
    },
    {
      "cell_type": "code",
      "metadata": {
        "colab": {
          "base_uri": "https://localhost:8080/"
        },
        "id": "TUSteExIA-13",
        "outputId": "4858bddf-aa3b-4f58-fa27-7d303e70e4d1"
      },
      "source": [
        "num1 = 5\n",
        "num2 = 5.5\n",
        "resp = num1 + num2\n",
        "print(\"La suma es: \", resp)"
      ],
      "execution_count": null,
      "outputs": [
        {
          "output_type": "stream",
          "text": [
            "La suma es:  10.5\n"
          ],
          "name": "stdout"
        }
      ]
    },
    {
      "cell_type": "code",
      "metadata": {
        "colab": {
          "base_uri": "https://localhost:8080/"
        },
        "id": "0WARfPLGBJuO",
        "outputId": "1691b231-1add-4116-89e7-fe1bf96c79d1"
      },
      "source": [
        "num1 = input(\"Num1: \")\n",
        "num2 = input(\"Num2: \")\n",
        "resp = float(num1) + float(num2) # \"5.5\"-> 5.5\n",
        "print(\"La suma es: \", resp)"
      ],
      "execution_count": null,
      "outputs": [
        {
          "output_type": "stream",
          "text": [
            "Num1: 5\n",
            "Num2: 5.5\n",
            "La suma es:  10.5\n"
          ],
          "name": "stdout"
        }
      ]
    },
    {
      "cell_type": "code",
      "metadata": {
        "colab": {
          "base_uri": "https://localhost:8080/"
        },
        "id": "6tvB4eeOB0oF",
        "outputId": "29e37cc9-998c-46f3-a179-00b4c01ad70b"
      },
      "source": [
        "num1 = input(\"Num1: \")\n",
        "num1 = float(num1)\n",
        "num2 = float(input(\"Num2: \"))\n",
        "resp = num1 + num2 # \"5.5\"-> 5.5\n",
        "print(\"La suma es: \", resp, num1 + num2)"
      ],
      "execution_count": null,
      "outputs": [
        {
          "output_type": "stream",
          "text": [
            "Num1: 5.4\n",
            "Num2: 6.8\n",
            "La suma es:  12.2 12.2\n"
          ],
          "name": "stdout"
        }
      ]
    },
    {
      "cell_type": "code",
      "metadata": {
        "colab": {
          "base_uri": "https://localhost:8080/"
        },
        "id": "8gDiWH0QClfu",
        "outputId": "471c16dc-cb4b-4205-b767-3536a5a1beff"
      },
      "source": [
        "print(\"Hola nuevamente\", nombre)"
      ],
      "execution_count": null,
      "outputs": [
        {
          "output_type": "stream",
          "text": [
            "Hola nuevamente Luis\n"
          ],
          "name": "stdout"
        }
      ]
    },
    {
      "cell_type": "code",
      "metadata": {
        "colab": {
          "base_uri": "https://localhost:8080/"
        },
        "id": "PYZvkp-YGN9O",
        "outputId": "98e6b0bb-f8d7-4bab-9d03-8ac4eb0c3b5d"
      },
      "source": [
        "gustaPython = True\n",
        "print(\"hola \", nombre, \" te gusta python \", gustaPython)"
      ],
      "execution_count": null,
      "outputs": [
        {
          "output_type": "stream",
          "text": [
            "hola  Luis  te gusta python  True\n"
          ],
          "name": "stdout"
        }
      ]
    },
    {
      "cell_type": "code",
      "metadata": {
        "colab": {
          "base_uri": "https://localhost:8080/"
        },
        "id": "26z8jE4AGp5x",
        "outputId": "420e6859-659d-42ee-e409-3f04b9718fc0"
      },
      "source": [
        "print( \"nombre: \", type(nombre), \"num1: \",type(num1), \"num2: \",type(num2), \"resp: \",type(resp), \"gustaPython: \", type(gustaPython), \"1\", type(1))"
      ],
      "execution_count": null,
      "outputs": [
        {
          "output_type": "stream",
          "text": [
            "nombre:  <class 'str'> num1:  <class 'float'> num2:  <class 'float'> resp:  <class 'float'> gustaPython:  <class 'bool'> 1 <class 'int'>\n"
          ],
          "name": "stdout"
        }
      ]
    },
    {
      "cell_type": "code",
      "metadata": {
        "colab": {
          "base_uri": "https://localhost:8080/"
        },
        "id": "Ao9X3GBZHa4S",
        "outputId": "a88a8972-2252-4b01-a8d6-d2e480e2407f"
      },
      "source": [
        "print(\"resp: \"+ str(resp) )"
      ],
      "execution_count": null,
      "outputs": [
        {
          "output_type": "stream",
          "text": [
            "resp: 12.2\n"
          ],
          "name": "stdout"
        }
      ]
    },
    {
      "cell_type": "code",
      "metadata": {
        "colab": {
          "base_uri": "https://localhost:8080/"
        },
        "id": "-nvx42xkI-Sq",
        "outputId": "506381da-1313-4fe9-e7a5-f764145987d0"
      },
      "source": [
        "def suma(num1, num2):\n",
        "  resp = num1 + num2\n",
        "  return resp\n",
        "num1 = float(input(\"Num1: \"))\n",
        "num2 = float(input(\"Nnum2: \"))\n",
        "resp = suma(num1,num2)\n",
        "print(resp)"
      ],
      "execution_count": null,
      "outputs": [
        {
          "output_type": "stream",
          "text": [
            "Num1: 8.4\n",
            "Nnum2: 9.8\n",
            "18.200000000000003\n"
          ],
          "name": "stdout"
        }
      ]
    },
    {
      "cell_type": "code",
      "metadata": {
        "colab": {
          "base_uri": "https://localhost:8080/"
        },
        "id": "JlAIlyTk72Kx",
        "outputId": "d311ed89-cae8-4a7b-d621-7a80b18b8b5c"
      },
      "source": [
        "num1 = int(input(\"Num1: \"))\n",
        "num2 = int(input(\"Num2: \"))\n",
        "print(\"Los numero\", str(num1), \",\", str(num2), \" son iguales: \", str(num1==num2) )"
      ],
      "execution_count": null,
      "outputs": [
        {
          "output_type": "stream",
          "text": [
            "Num1: 4\n",
            "Num2: 4\n",
            "Los numero 4 , 4  son iguales:  True\n"
          ],
          "name": "stdout"
        }
      ]
    },
    {
      "cell_type": "code",
      "metadata": {
        "colab": {
          "base_uri": "https://localhost:8080/"
        },
        "id": "06KQVMOP-75d",
        "outputId": "ab070dba-6ea8-4ae7-b436-d4773a71316b"
      },
      "source": [
        "def convertirFC(f):\n",
        "  c = (f-32)*5/9\n",
        "  return c\n",
        "\n",
        "f = float(input(\"F: \"))\n",
        "print(\"F: \", str(f), \" a celsius: \", str( convertirFC(f) ))"
      ],
      "execution_count": null,
      "outputs": [
        {
          "output_type": "stream",
          "text": [
            "F: 98\n",
            "F:  98.0  a celsius:  36.666666666666664\n"
          ],
          "name": "stdout"
        }
      ]
    },
    {
      "cell_type": "code",
      "metadata": {
        "colab": {
          "base_uri": "https://localhost:8080/"
        },
        "id": "ZYVmFupFBHEn",
        "outputId": "02ce9f5b-d73d-4fd1-d48f-a5fb1afe9b17"
      },
      "source": [
        "numHrs = int(input(\"Num. de Hrs trabajadas: \"))\n",
        "valorHr = float(input(\"Valor por hr: \"))\n",
        "\n",
        "sueldo = numHrs*valorHr*30\n",
        "print(\"Sueldo: \", sueldo)"
      ],
      "execution_count": null,
      "outputs": [
        {
          "output_type": "stream",
          "text": [
            "Num. de Hrs trabajadas: 10\n",
            "Valor por hr: 4.5\n",
            "Sueldo:  1350.0\n"
          ],
          "name": "stdout"
        }
      ]
    },
    {
      "cell_type": "code",
      "metadata": {
        "colab": {
          "base_uri": "https://localhost:8080/"
        },
        "id": "XE6stugPCGEK",
        "outputId": "af93087c-ccad-45a5-c2dd-2e3706ebda06"
      },
      "source": [
        "def calcularSueldo(numHrs, valorHr):\n",
        "  hrsExtras = 0\n",
        "  if( numHrs>8 ):\n",
        "    hrsExtras = numHrs-8\n",
        "  sueldo = (8*valorHr + hrsExtras*valorHr*2)*30\n",
        "  return sueldo\n",
        "\n",
        "numHrs = int(input(\"Num. hrs trabajadas: \"))\n",
        "valorHr = float(input(\"Valor x hr: \"))\n",
        "print(\"Sueldo: \", str(calcularSueldo(numHrs, valorHr)))"
      ],
      "execution_count": null,
      "outputs": [
        {
          "output_type": "stream",
          "text": [
            "Num. hrs trabajadas: 10\n",
            "Valor x hr: 4.5\n",
            "Sueldo:  1620.0\n"
          ],
          "name": "stdout"
        }
      ]
    },
    {
      "cell_type": "code",
      "metadata": {
        "colab": {
          "base_uri": "https://localhost:8080/"
        },
        "id": "Lz3yN33_E5oR",
        "outputId": "c3e5a49c-c340-45ca-cef4-83a83a88e640"
      },
      "source": [
        "prioridad = 7- 5*2 - 4/4 *2 #5*2=10   4/4=1   1*2=2   7-10-2= -5\n",
        "print(str(prioridad))"
      ],
      "execution_count": null,
      "outputs": [
        {
          "output_type": "stream",
          "text": [
            "-5.0\n"
          ],
          "name": "stdout"
        }
      ]
    },
    {
      "cell_type": "markdown",
      "metadata": {
        "id": "mnvZb9fxNfEr"
      },
      "source": [
        "Ejercicio de clase: 1. **Convertir** de Grados Celsius a Fahrenheit."
      ]
    },
    {
      "cell_type": "code",
      "metadata": {
        "id": "WS53NEXGNsCX"
      },
      "source": [
        ""
      ],
      "execution_count": null,
      "outputs": []
    },
    {
      "cell_type": "markdown",
      "metadata": {
        "id": "95E_92CmNzCL"
      },
      "source": [
        "Ejercicios de Tarea: \n",
        "1. Convertir de Celsius de Fahrenheit\n",
        "2. Calcular la edad de una persona.\n",
        "3. Obtener la nota final de ciclo\n",
        "\n",
        "Tarea: \n",
        "1. Convertir de Celsius de Fahrenheit usando lambda\n",
        "2. Calcular la edad de una persona. usando lambda\n",
        "3. Obtener la nota final de ciclo usando lambda y build-in(map, filter, reduce)"
      ]
    },
    {
      "cell_type": "code",
      "metadata": {
        "id": "3sghW7eB9efF",
        "colab": {
          "base_uri": "https://localhost:8080/"
        },
        "outputId": "f134830b-7bd2-479c-af38-6a73abbc489a"
      },
      "source": [
        "suma = lambda num1,num2: num1+num2\n",
        "num1 = float(input(\"Num1: \"))\n",
        "num2 = float(input(\"Num2: \"))\n",
        "print(\"La suma es: \", suma(num1,num2))"
      ],
      "execution_count": null,
      "outputs": [
        {
          "output_type": "stream",
          "text": [
            "Num1: 5\n",
            "Num2: 7\n",
            "La suma es:  12.0\n"
          ],
          "name": "stdout"
        }
      ]
    },
    {
      "cell_type": "code",
      "metadata": {
        "id": "KOUBB1Ac-uC-",
        "colab": {
          "base_uri": "https://localhost:8080/"
        },
        "outputId": "73965dd5-57b3-4ee4-9530-5b60cfa8b48e"
      },
      "source": [
        "conversion = lambda f:(f-32)*5/9\n",
        "f = float(input(\"Fahrenheit: \"))\n",
        "print(\"Grados F: \", f, \" a C: \", conversion(f))"
      ],
      "execution_count": null,
      "outputs": [
        {
          "output_type": "stream",
          "text": [
            "Fahrenheit: 98\n",
            "Grados F:  98.0  a C:  36.666666666666664\n"
          ],
          "name": "stdout"
        }
      ]
    },
    {
      "cell_type": "code",
      "metadata": {
        "id": "6nsniU_ZCuk-",
        "colab": {
          "base_uri": "https://localhost:8080/"
        },
        "outputId": "25d4bdf1-ca6b-4f04-be1c-b5d29e5286e3"
      },
      "source": [
        "cuadrado = lambda n:n**2\n",
        "n = int(input(\"N: \"))\n",
        "print(\"N: \", n, \" al cuadrado es: \", cuadrado(n))"
      ],
      "execution_count": null,
      "outputs": [
        {
          "output_type": "stream",
          "text": [
            "N: 3\n",
            "N:  3  al cuadrado es:  9\n"
          ],
          "name": "stdout"
        }
      ]
    },
    {
      "cell_type": "code",
      "metadata": {
        "id": "H5qbXQwgDUfS",
        "colab": {
          "base_uri": "https://localhost:8080/"
        },
        "outputId": "05beabe8-e5a3-484e-98c2-93fc600de72b"
      },
      "source": [
        "cubo = lambda n:n**3\n",
        "n = int(input(\"n: \"))\n",
        "print(\"N: \", n, \" al cubo es: \", cubo(n))"
      ],
      "execution_count": null,
      "outputs": [
        {
          "output_type": "stream",
          "text": [
            "n: 3\n",
            "N:  3  al cubo es:  27\n"
          ],
          "name": "stdout"
        }
      ]
    },
    {
      "cell_type": "code",
      "metadata": {
        "id": "BCIK0LyXDotB",
        "colab": {
          "base_uri": "https://localhost:8080/"
        },
        "outputId": "55ed7d03-eb40-41c1-984a-b863587eccbf"
      },
      "source": [
        "exp = lambda n,e:n**e\n",
        "n = int(input(\"N: \"))\n",
        "e = int(input(\"Exponente: \"))\n",
        "print(n, \" elevado al exp : \", e, \" es: \", exp(n,e))"
      ],
      "execution_count": null,
      "outputs": [
        {
          "output_type": "stream",
          "text": [
            "N: 3\n",
            "Exponente: 4\n",
            "3  elevado al exp :  4  es:  81\n"
          ],
          "name": "stdout"
        }
      ]
    },
    {
      "cell_type": "code",
      "metadata": {
        "id": "3f17iY2gFHn4",
        "colab": {
          "base_uri": "https://localhost:8080/"
        },
        "outputId": "d3c330a7-f368-488a-f4d3-9420a0b9b44a"
      },
      "source": [
        "lista = [1,2,3,4]\n",
        "resp = list(map(lambda n:n*2, lista))\n",
        "print(resp)\n"
      ],
      "execution_count": null,
      "outputs": [
        {
          "output_type": "stream",
          "text": [
            "[2, 4, 6, 8]\n"
          ],
          "name": "stdout"
        }
      ]
    },
    {
      "cell_type": "code",
      "metadata": {
        "id": "sW-Vx1w5FtOM",
        "colab": {
          "base_uri": "https://localhost:8080/"
        },
        "outputId": "3f993722-4996-464c-ff45-16f53a09a106"
      },
      "source": [
        "gf_depto = [85,58,105]\n",
        "c_depto = list(map(conversion, gf_depto))\n",
        "print(\"Los grados F: \", gf_depto, \" en celsius es: \", c_depto)"
      ],
      "execution_count": null,
      "outputs": [
        {
          "output_type": "stream",
          "text": [
            "Los grados F:  [85, 58, 105]  en celsius es:  [29.444444444444443, 14.444444444444445, 40.55555555555556]\n"
          ],
          "name": "stdout"
        }
      ]
    },
    {
      "cell_type": "code",
      "metadata": {
        "id": "ky6wGH-lGpuR",
        "colab": {
          "base_uri": "https://localhost:8080/"
        },
        "outputId": "928023d6-1e6f-4243-da6b-0c93913fc6ef"
      },
      "source": [
        "resp = list(map(cuadrado, lista))\n",
        "print(\"La lista \", lista, \" el cuadrado es: \", resp)"
      ],
      "execution_count": null,
      "outputs": [
        {
          "output_type": "stream",
          "text": [
            "La lista  [1, 2, 3]  el cuadrado es:  [1, 4, 9]\n"
          ],
          "name": "stdout"
        }
      ]
    },
    {
      "cell_type": "code",
      "metadata": {
        "id": "-1-UZFs_G8z1",
        "colab": {
          "base_uri": "https://localhost:8080/"
        },
        "outputId": "f29ebcb0-2d36-4be4-b915-a26c560ba63a"
      },
      "source": [
        "resp = list(map(cubo, lista))\n",
        "print(\"La lista \", lista, \" el cubo es: \", resp)"
      ],
      "execution_count": null,
      "outputs": [
        {
          "output_type": "stream",
          "text": [
            "La lista  [1, 2, 3]  el cubo es:  [1, 8, 27]\n"
          ],
          "name": "stdout"
        }
      ]
    },
    {
      "cell_type": "code",
      "metadata": {
        "id": "zwOFlJ78Hlrs",
        "colab": {
          "base_uri": "https://localhost:8080/"
        },
        "outputId": "82699d0e-f73b-460d-acec-fccc7d10cb44"
      },
      "source": [
        "resp = list(filter(lambda n:n>2, lista))\n",
        "print(\"Los numeros <= 2 de la lista \", lista, \" son: \", resp)"
      ],
      "execution_count": null,
      "outputs": [
        {
          "output_type": "stream",
          "text": [
            "Los numeros <= 2 de la lista  [1, 2, 3]  son:  [3]\n"
          ],
          "name": "stdout"
        }
      ]
    },
    {
      "cell_type": "code",
      "metadata": {
        "id": "j2EsVBxPIOnU",
        "colab": {
          "base_uri": "https://localhost:8080/"
        },
        "outputId": "ac393152-a9e9-405b-cacc-93cb49693cfa"
      },
      "source": [
        "resp = list(filter(lambda n:n%2==0, lista))\n",
        "print(\"Los numeros pares de la lista \", lista, \" son: \", resp)"
      ],
      "execution_count": null,
      "outputs": [
        {
          "output_type": "stream",
          "text": [
            "Los numeros pares de la lista  [1, 2, 3, 5, 8, 7, 9, 12, 11, 2]  son:  [2, 8, 12, 2]\n"
          ],
          "name": "stdout"
        }
      ]
    },
    {
      "cell_type": "code",
      "metadata": {
        "id": "4o8cSg1_I02H",
        "colab": {
          "base_uri": "https://localhost:8080/"
        },
        "outputId": "aec48c81-1bbc-47c5-d50c-b2e5a4fed4fe"
      },
      "source": [
        "resp = list(filter(lambda n:n%2, lista)) #True, False, 1/2 = 0.5->1->True, 2/2=0 -> False\n",
        "print(\"Los numeros impares de la lista \", lista, \" son \", resp)"
      ],
      "execution_count": null,
      "outputs": [
        {
          "output_type": "stream",
          "text": [
            "Los numeros impares de la lista  [1, 2, 3, 5, 8, 7, 9, 12, 11, 2]  son  [1, 3, 5, 7, 9, 11]\n"
          ],
          "name": "stdout"
        }
      ]
    },
    {
      "cell_type": "code",
      "metadata": {
        "id": "UPLopWZNMsLm",
        "colab": {
          "base_uri": "https://localhost:8080/"
        },
        "outputId": "15ffebc2-a9bd-4fbd-dd16-d93b0119a2ed"
      },
      "source": [
        "from functools import reduce\n",
        "resp = reduce(lambda x,y:x+y, lista)\n",
        "print(\"La suma de la lista \", lista, \" es: \", resp, \" la media es: \", resp/len(lista))"
      ],
      "execution_count": null,
      "outputs": [
        {
          "output_type": "stream",
          "text": [
            "La suma de la lista  [1, 2, 3, 4]  es:  10  la media es:  2.5\n"
          ],
          "name": "stdout"
        }
      ]
    },
    {
      "cell_type": "code",
      "metadata": {
        "id": "n-RfeOEZG2XO",
        "colab": {
          "base_uri": "https://localhost:8080/"
        },
        "outputId": "4ff8d27c-3897-44b6-afc7-0bd491f3008a"
      },
      "source": [
        "tupla = (1,2,5) #una tupla es un conjunto de datos inmutable\n",
        "print( tupla, tupla[0], \"Rango: indice inicial: longitud: \", tupla[1:3], \"; cuantas veces aparece el 2: \",tupla.count(2), \"; donde (indice) aparece el 5: \", tupla.index(5)  )\n",
        "print( list(map(conversion, tupla)) )"
      ],
      "execution_count": null,
      "outputs": [
        {
          "output_type": "stream",
          "text": [
            "(1, 2, 5) 1 Rango: indice inicial: longitud:  (2, 5) ; cuantas veces aparece el 2:  1 ; donde (indice) aparece el 5:  2\n",
            "[-17.22222222222222, -16.666666666666668, -15.0]\n"
          ],
          "name": "stdout"
        }
      ]
    },
    {
      "cell_type": "code",
      "metadata": {
        "id": "ymiAp6HaO53Z",
        "colab": {
          "base_uri": "https://localhost:8080/"
        },
        "outputId": "b825a763-c27b-415b-ea67-621e156f9e52"
      },
      "source": [
        "persona = (\"USIS018804\", \"Luis Hernandez\", \"Usulutan\", \"2222-2222\", \"luishernandez@ugb.edu.sv\", 2004, 2.5)\n",
        "print( persona )"
      ],
      "execution_count": null,
      "outputs": [
        {
          "output_type": "stream",
          "text": [
            "('USIS018804', 'Luis Hernandez', 'Usulutan', '2222-2222', 'luishernandez@ugb.edu.sv', 2004, 2.5)\n"
          ],
          "name": "stdout"
        }
      ]
    },
    {
      "cell_type": "code",
      "metadata": {
        "id": "qEUPLFiQP1M4",
        "colab": {
          "base_uri": "https://localhost:8080/"
        },
        "outputId": "617ee9ca-92e0-49e3-f904-87c9bae3ccf8"
      },
      "source": [
        "nombre = \"Luis Hernandez\"\n",
        "print( nombre[0:4], nombre.count(\"e\") )"
      ],
      "execution_count": null,
      "outputs": [
        {
          "output_type": "stream",
          "text": [
            "Luis 2\n"
          ],
          "name": "stdout"
        }
      ]
    },
    {
      "cell_type": "code",
      "metadata": {
        "id": "_S-X8SEiQtSY",
        "colab": {
          "base_uri": "https://localhost:8080/"
        },
        "outputId": "cc5c08d8-d989-4db3-bd9a-f3f46ac2bc0a"
      },
      "source": [
        "name = [\"L\", \"u\", \"i\", \"s\", \" \", \"H\", \"e\", \"r\", \"n\",\"a\",\"n\",\"d\",\"e\",\"z\"]\n",
        "print( name, name[0:4], name.count(\"e\"), name.index(\"e\") )"
      ],
      "execution_count": null,
      "outputs": [
        {
          "output_type": "stream",
          "text": [
            "['L', 'u', 'i', 's', ' ', 'H', 'e', 'r', 'n', 'a', 'n', 'd', 'e', 'z'] ['L', 'u', 'i', 's'] 2 6\n"
          ],
          "name": "stdout"
        }
      ]
    },
    {
      "cell_type": "code",
      "metadata": {
        "id": "AnD_uxUaRjq7",
        "colab": {
          "base_uri": "https://localhost:8080/"
        },
        "outputId": "b71a20ea-6c07-42be-fb88-f0780ce22c43"
      },
      "source": [
        "person = [\"USIS018804\", \"Luis Hernandez\", \"Direccion: Usulutan\", \"2222-2222\", \"luishernandez@ugb.edu.sv\", 2004, 2.5]\n",
        "print(person)\n",
        "#person[6] = 9.1\n",
        "person.insert(2, \"Depto: Usulutan\") #inserta una valor en el indice 2\n",
        "person.append(\"Python\")# inserta un valor al final\n",
        "#person[6] = 9.1\n",
        "person[ person.index(2.5) ] = 9.1\n",
        "lenguaje = person.pop() #devuelve y borra el ultimo valor\n",
        "print(person, lenguaje)"
      ],
      "execution_count": null,
      "outputs": [
        {
          "output_type": "stream",
          "text": [
            "['USIS018804', 'Luis Hernandez', 'Direccion: Usulutan', '2222-2222', 'luishernandez@ugb.edu.sv', 2004, 2.5]\n",
            "['USIS018804', 'Luis Hernandez', 'Depto: Usulutan', 'Direccion: Usulutan', '2222-2222', 'luishernandez@ugb.edu.sv', 2004, 9.1] Python\n"
          ],
          "name": "stdout"
        }
      ]
    },
    {
      "cell_type": "code",
      "metadata": {
        "id": "klZ-AgTCU9Gv",
        "colab": {
          "base_uri": "https://localhost:8080/"
        },
        "outputId": "81fabe09-30bc-4781-d12d-7fd09afcb6ba"
      },
      "source": [
        "numEnteros = [1,5,2,8,7]\n",
        "numOrdenados = sorted(numEnteros, reverse=True)\n",
        "numReverse = list(reversed(numEnteros))\n",
        "print(\"Lista desordenada: \", numEnteros, \"Lista Ordenada: \", numOrdenados, \"Numeros al reves\", numReverse )"
      ],
      "execution_count": null,
      "outputs": [
        {
          "output_type": "stream",
          "text": [
            "Lista desordenada:  [1, 5, 2, 8, 7] Lista Ordenada:  [8, 7, 5, 2, 1] Numeros al reves [7, 8, 2, 5, 1]\n"
          ],
          "name": "stdout"
        }
      ]
    },
    {
      "cell_type": "code",
      "metadata": {
        "id": "343mSyF-_706",
        "colab": {
          "base_uri": "https://localhost:8080/"
        },
        "outputId": "de5927c2-31f3-4ca6-e937-e28a80361c01"
      },
      "source": [
        "me = [\"USIS018804\",\"Luis Hernandez\",\"Usulutan\",503, \"2222-2222\",\"luishernandez@ugb.edu.sv\",[\"Progra I\", \"Progra II\", [5,8,9,2], \"Progra III\"] ]\n",
        "print( me[0][0:4], me[6][2][2], me[6][2][0] )"
      ],
      "execution_count": null,
      "outputs": [
        {
          "output_type": "stream",
          "text": [
            "USIS 9 5\n"
          ],
          "name": "stdout"
        }
      ]
    },
    {
      "cell_type": "code",
      "metadata": {
        "id": "iVsG4JEwCkST",
        "colab": {
          "base_uri": "https://localhost:8080/"
        },
        "outputId": "856451d5-8e9f-4426-8d34-104f7bf9d0b1"
      },
      "source": [
        "matriz = [\n",
        "          [1,2,3],\n",
        "          [8,7,6],\n",
        "          [7,2,5]\n",
        "]\n",
        "print( matriz )"
      ],
      "execution_count": null,
      "outputs": [
        {
          "output_type": "stream",
          "text": [
            "[[1, 2, 3], [8, 7, 6], [7, 2, 5]]\n"
          ],
          "name": "stdout"
        }
      ]
    },
    {
      "cell_type": "code",
      "metadata": {
        "id": "Oj1el3prC29V",
        "colab": {
          "base_uri": "https://localhost:8080/"
        },
        "outputId": "7fb86590-e8aa-436e-91b3-a0cb68f68776"
      },
      "source": [
        "matriz = [\n",
        "          [1,5,6],    #0\n",
        "          [2,4],      #1\n",
        "          [8,7,9],    #2\n",
        "          [7,0],      #3\n",
        "          [5,8,9.5,7],#4\n",
        "          7,          #5\n",
        "          [6,         #6\n",
        "           [1,8,9],5],\n",
        "          7\n",
        "]\n",
        "print( matriz )"
      ],
      "execution_count": null,
      "outputs": [
        {
          "output_type": "stream",
          "text": [
            "[[1, 5, 6], [2, 4], [8, 7, 9], [7, 0], [5, 8, 9.5, 7], 7, [6, [1, 8, 9], 5], 7]\n"
          ],
          "name": "stdout"
        }
      ]
    },
    {
      "cell_type": "code",
      "metadata": {
        "id": "WBNUM0BZEu0D",
        "colab": {
          "base_uri": "https://localhost:8080/"
        },
        "outputId": "fdb8362e-ac44-4d1c-ff31-bb7916ac5915"
      },
      "source": [
        "lenguajes = {\"PrograI\":\"VB\",\"PrograII\":\"JAVA\",\"PrograIII\":\"Python\"}\n",
        "print(lenguajes[\"PrograI\"])"
      ],
      "execution_count": null,
      "outputs": [
        {
          "output_type": "stream",
          "text": [
            "VB\n"
          ],
          "name": "stdout"
        }
      ]
    },
    {
      "cell_type": "code",
      "metadata": {
        "id": "YvCSOLx0FsQz",
        "colab": {
          "base_uri": "https://localhost:8080/"
        },
        "outputId": "2e2ceb75-9722-4a96-dd76-7c9f90a96fe6"
      },
      "source": [
        "mi = {\n",
        "    \"codigo\":\"USIS018804\",\n",
        "    \"nombre\":\"Luis Hernandez\",\n",
        "    \"direccion\":{\n",
        "        \"pais\":{\n",
        "            \"codigo\":503,\n",
        "            \"nombre\":\"El Salvador\",\n",
        "            \"codigoiso\":\"sv\",\n",
        "            \"continente\":{\n",
        "                \"nombre\":\"C.A\"\n",
        "            }\n",
        "        },\n",
        "        \"departamento\":\"Usulutan\",\n",
        "        \"municipio\":\"Santa Maria\",\n",
        "        \"detalle\":\"3Av. Norte #5, Casa #5\"\n",
        "    },\n",
        "    \"tels\":{\n",
        "        \"oficina\":\"2645-4545\",\n",
        "        \"casa\":\"2615-7878\",\n",
        "        \"celular\":\"7080-5020\"\n",
        "    }\n",
        "}\n",
        "print( mi[\"codigo\"], mi[\"nombre\"], mi[\"tels\"], mi[\"direccion\"][\"pais\"][\"nombre\"], mi[\"direccion\"][\"pais\"][\"continente\"][\"nombre\"], mi[\"direccion\"][\"departamento\"] )"
      ],
      "execution_count": null,
      "outputs": [
        {
          "output_type": "stream",
          "text": [
            "USIS018804 Luis Hernandez {'oficina': '2645-4545', 'casa': '2615-7878', 'celular': '7080-5020'} El Salvador C.A Usulutan\n"
          ],
          "name": "stdout"
        }
      ]
    },
    {
      "cell_type": "code",
      "metadata": {
        "id": "uaL42QNTI5LK",
        "colab": {
          "base_uri": "https://localhost:8080/"
        },
        "outputId": "22e5c77d-0475-4639-abd5-262a3fb7e246"
      },
      "source": [
        "mi.clear()\n",
        "print( mi )"
      ],
      "execution_count": null,
      "outputs": [
        {
          "output_type": "stream",
          "text": [
            "{}\n"
          ],
          "name": "stdout"
        }
      ]
    },
    {
      "cell_type": "code",
      "metadata": {
        "id": "a1elMl_wJLxK",
        "colab": {
          "base_uri": "https://localhost:8080/"
        },
        "outputId": "6ff74149-64c6-4fb4-a1a8-70c74fba1507"
      },
      "source": [
        "copia = mi.copy()\n",
        "print( copia )"
      ],
      "execution_count": null,
      "outputs": [
        {
          "output_type": "stream",
          "text": [
            "{'codigo': 'USIS018804', 'nombre': 'Luis Hernandez', 'direccion': {'pais': {'codigo': 503, 'nombre': 'El Salvador', 'codigoiso': 'sv', 'continente': {'nombre': 'C.A'}}, 'departamento': 'Usulutan', 'municipio': 'Santa Maria', 'detalle': '3Av. Norte #5, Casa #5'}, 'tels': {'oficina': '2645-4545', 'casa': '2615-7878', 'celular': '7080-5020'}}\n"
          ],
          "name": "stdout"
        }
      ]
    },
    {
      "cell_type": "code",
      "metadata": {
        "id": "NsPn51umJonI",
        "colab": {
          "base_uri": "https://localhost:8080/"
        },
        "outputId": "bc8339d3-22d8-4bdc-9c74-cd7180617d69"
      },
      "source": [
        "pais = copia.get(\"direccion\")[\"pais\"][\"nombre\"]\n",
        "print( pais )\n",
        "\n",
        "nombre = mi.get(\"direccion\").get(\"pais\").get(\"codigo\")\n",
        "\n",
        "esqueleto = dict.fromkeys(mi,\"\")\n",
        "\n",
        "print( nombre, esqueleto ) #has_key fue removido de python 3 en adelante..."
      ],
      "execution_count": null,
      "outputs": [
        {
          "output_type": "stream",
          "text": [
            "El Salvador\n",
            "503 {'codigo': '', 'nombre': '', 'direccion': '', 'tels': ''}\n"
          ],
          "name": "stdout"
        }
      ]
    },
    {
      "cell_type": "code",
      "metadata": {
        "id": "iKhi7wcMOI0O",
        "colab": {
          "base_uri": "https://localhost:8080/"
        },
        "outputId": "ba99348a-de12-45b3-c666-607be9357dd7"
      },
      "source": [
        "items = list(mi.items())\n",
        "print( items )"
      ],
      "execution_count": null,
      "outputs": [
        {
          "output_type": "stream",
          "text": [
            "[('codigo', 'USIS018804'), ('nombre', 'Luis Hernandez'), ('direccion', {'pais': {'codigo': 503, 'nombre': 'El Salvador', 'codigoiso': 'sv', 'continente': {'nombre': 'C.A'}}, 'departamento': 'Usulutan', 'municipio': 'Santa Maria', 'detalle': '3Av. Norte #5, Casa #5'}), ('tels', {'oficina': '2645-4545', 'casa': '2615-7878', 'celular': '7080-5020'})]\n"
          ],
          "name": "stdout"
        }
      ]
    },
    {
      "cell_type": "code",
      "metadata": {
        "id": "CXX-AnLXOqvi"
      },
      "source": [
        "#itervalues = mi.itervalues() -> Fue eliminado de Python 3\n",
        "#print( itervalues )\n"
      ],
      "execution_count": null,
      "outputs": []
    },
    {
      "cell_type": "code",
      "metadata": {
        "id": "daiOljmVPFCU",
        "colab": {
          "base_uri": "https://localhost:8080/"
        },
        "outputId": "535f0ccc-b69c-49b1-c97f-b9e9880b51a1"
      },
      "source": [
        "claves = list(mi.keys())\n",
        "print( claves, claves[0] )"
      ],
      "execution_count": null,
      "outputs": [
        {
          "output_type": "stream",
          "text": [
            "['codigo', 'nombre', 'direccion', 'tels'] codigo\n"
          ],
          "name": "stdout"
        }
      ]
    },
    {
      "cell_type": "code",
      "metadata": {
        "id": "-AWI9pTZVc8p",
        "colab": {
          "base_uri": "https://localhost:8080/"
        },
        "outputId": "a3153d5b-5aff-46e3-a308-b7552e6e2598"
      },
      "source": [
        "edad = int(input(\"Edad: \"))\n",
        "if edad<2:\n",
        "  print(\"Eres un bebe.\")\n",
        "elif edad<12:\n",
        "  print(\"Eres un niño\")\n",
        "elif edad<18:\n",
        "  print(\"Eres un adolescente\")\n",
        "elif edad<=55:\n",
        "  print(\"Eres joven\")\n",
        "elif edad<=65:\n",
        "  print(\"Eres adulto, un señor\")\n",
        "elif edad<=80:\n",
        "  print(\"Eres un adulto mayor\")\n",
        "elif edad<130:\n",
        "  print(\"Larga vidad\")\n",
        "else:\n",
        "  print(\"Error en la edad\")"
      ],
      "execution_count": null,
      "outputs": [
        {
          "output_type": "stream",
          "text": [
            "Edad: 17\n",
            "Eres un adolescente\n"
          ],
          "name": "stdout"
        }
      ]
    },
    {
      "cell_type": "code",
      "metadata": {
        "id": "1MMovrwpZTds",
        "colab": {
          "base_uri": "https://localhost:8080/"
        },
        "outputId": "cc89fd26-0a68-450a-9fe6-a9c6e13b6bc8"
      },
      "source": [
        "n = int(input(\"Tabla: \"))\n",
        "i=1\n",
        "while i<=10:\n",
        "  print(n,\"X\",i,\"=\",n*i)\n",
        "  i+=1\n"
      ],
      "execution_count": null,
      "outputs": [
        {
          "output_type": "stream",
          "text": [
            "Tabla: 9\n",
            "9 X 1 = 9\n",
            "9 X 2 = 18\n",
            "9 X 3 = 27\n",
            "9 X 4 = 36\n",
            "9 X 5 = 45\n",
            "9 X 6 = 54\n",
            "9 X 7 = 63\n",
            "9 X 8 = 72\n",
            "9 X 9 = 81\n",
            "9 X 10 = 90\n"
          ],
          "name": "stdout"
        }
      ]
    },
    {
      "cell_type": "markdown",
      "metadata": {
        "id": "onQPzbVlMxA4"
      },
      "source": [
        "Calcular sobre el sueldo las deducciones de ley isss (3%), afp 6.25%, isr (tabla) e imprima el sueldo neto y total deducciones"
      ]
    },
    {
      "cell_type": "code",
      "metadata": {
        "id": "jtb_E_KmMv3F",
        "colab": {
          "base_uri": "https://localhost:8080/"
        },
        "outputId": "666afd85-eb2c-4ba9-e603-4ea2a76e6719"
      },
      "source": [
        "sueldo = float(input(\"Sueldo: \"))\n",
        "isss = sueldo*0.03\n",
        "afp = sueldo*0.0625\n",
        "sueldoNeto = sueldo - (isss + afp)\n",
        "\n",
        "tablaIsr = [\n",
        "            [0.01,   472.0,   0,   0    ],\n",
        "            [472.01, 895.24,  0.1, 17.67],\n",
        "            [895.25, 2038.10, 0.2, 60   ],\n",
        "            [2038.11, 99999 , 0.3, 288.57]\n",
        "]\n",
        "isr = 0\n",
        "for tramo in tablaIsr:\n",
        "  if sueldoNeto>=tramo[0] and sueldo<=tramo[1]:\n",
        "    isr = (sueldoNeto - tramo[0])*tramo[2] + tramo[3]\n",
        "sueldoNeto -= isr\n",
        "print(sueldo, \"Deducciones: \", (isss + afp + isr), \" Sueldo Neto: \", sueldoNeto)"
      ],
      "execution_count": null,
      "outputs": [
        {
          "output_type": "stream",
          "text": [
            "Sueldo: 350\n",
            "350.0 Deducciones:  32.375  Sueldo Neto:  317.625\n"
          ],
          "name": "stdout"
        }
      ]
    },
    {
      "cell_type": "markdown",
      "metadata": {
        "id": "laEI0sRVV_Yf"
      },
      "source": [
        "Conversores:\n",
        "1. Monedas\n",
        "  Dolar\n",
        "  Euro\n",
        "  Lempiras\n",
        "  Cordobas\n",
        "  Quetzal\n",
        "  Colon SV\n",
        "  Colon CR"
      ]
    },
    {
      "cell_type": "code",
      "metadata": {
        "id": "CWEcNF08V-YI",
        "colab": {
          "base_uri": "https://localhost:8080/"
        },
        "outputId": "72fc8aae-3b1c-48bd-bf0e-bbac85b90b59"
      },
      "source": [
        "valores = [\n",
        "           [],\n",
        "           [0, 1, 0.85, 23.8, 35.11, 7.74, 8.75, 621.61], #monedas\n",
        "           [],                                         #Longitud\n",
        "           [],                                         #Masa\n",
        "]\n",
        "etiquetas = [\n",
        "           [],\n",
        "           [\"1. Dolar\", \"2. Euro\", \"3. Lempira\",\"4. Cordobas\", \"5. Quetzalez\", \"6. Colon SV\", \"7. Colon CR\"],\n",
        "           []\n",
        "]\n",
        "def convertir(conversor, de, a, cantidad):\n",
        "  return valores[conversor][a]/valores[conversor][de] * cantidad\n",
        "\n",
        "print(\"*** MENU ***\")\n",
        "print(\"* 1. Monedas\")\n",
        "print(\"* 2. Longitud\")\n",
        "print(\"* 3. Masa\")\n",
        "conversor = int(input(\"Conversor: \"))\n",
        "\n",
        "print( etiquetas[conversor] )\n",
        "\n",
        "de = int(input(\"DE: \"))\n",
        "a = int(input(\"A: \"))\n",
        "cantidad = float(input(\"Cant: \"))\n",
        "\n",
        "print(\"Respuesta: \", convertir(conversor, de, a, cantidad) )\n",
        "\n"
      ],
      "execution_count": null,
      "outputs": [
        {
          "output_type": "stream",
          "text": [
            "*** MENU ***\n",
            "* 1. Monedas\n",
            "* 2. Longitud\n",
            "* 3. Masa\n",
            "Conversor: 1\n",
            "['1. Dolar', '2. Euro', '3. Lempira', '4. Cordobas', '5. Quetzalez', '6. Colon SV', '7. Colon CR']\n",
            "DE: 1\n",
            "A: 6\n",
            "Cant: 1\n",
            "Respuesta:  8.75\n"
          ],
          "name": "stdout"
        }
      ]
    },
    {
      "cell_type": "markdown",
      "metadata": {
        "id": "XgWl4cjoJXQE"
      },
      "source": [
        "Tabla de acumulacion de MESES."
      ]
    },
    {
      "cell_type": "code",
      "metadata": {
        "id": "n9zNkMptJfjJ",
        "colab": {
          "base_uri": "https://localhost:8080/"
        },
        "outputId": "e36017d8-5c94-4b76-b610-9c4e7a751e67"
      },
      "source": [
        "nmeses = int(input(\"MESES: \"))\n",
        "i=0\n",
        "acumulacion = 0\n",
        "while i<=nmeses:\n",
        "  acumulacion += i\n",
        "  i+=1\n",
        "print(\"ACUMULACION \", acumulacion)\n"
      ],
      "execution_count": null,
      "outputs": [
        {
          "output_type": "stream",
          "name": "stdout",
          "text": [
            "MESES: 150\n",
            "ACUMULACION  11325\n"
          ]
        }
      ]
    },
    {
      "cell_type": "code",
      "metadata": {
        "id": "ZSQRd9esKl0s",
        "colab": {
          "base_uri": "https://localhost:8080/"
        },
        "outputId": "2c241b4a-0468-4158-870a-02ded9aa97db"
      },
      "source": [
        "nmeses = int(input(\"Dime los Meses Acumulado: \"))\n",
        "acumulado = nmeses * (nmeses/2 + 0.5)\n",
        "print(\"ACUMULADO: \", acumulado)"
      ],
      "execution_count": null,
      "outputs": [
        {
          "output_type": "stream",
          "name": "stdout",
          "text": [
            "Dime los Meses Acumulado: 150\n",
            "ACUMULADO:  11325.0\n"
          ]
        }
      ]
    },
    {
      "cell_type": "code",
      "metadata": {
        "id": "kSrydg94PlBv",
        "colab": {
          "base_uri": "https://localhost:8080/"
        },
        "outputId": "7ca34c39-e737-474a-863e-e3d6cf4ed774"
      },
      "source": [
        "n = int(input(\"MESES: \"))\n",
        "acumulado = 0.5*n**2 + 0.5 * n #Flor..\n",
        "print(\"ACUMULADO: \", acumulado)"
      ],
      "execution_count": null,
      "outputs": [
        {
          "output_type": "stream",
          "name": "stdout",
          "text": [
            "MESES: 150\n",
            "ACUMULADO:  11325.0\n"
          ]
        }
      ]
    },
    {
      "cell_type": "code",
      "metadata": {
        "id": "I50_7y4eQvDR",
        "colab": {
          "base_uri": "https://localhost:8080/"
        },
        "outputId": "b1ff2b05-adf4-485c-df68-d5a626e142e1"
      },
      "source": [
        "n = int(input(\"MESES: \"))\n",
        "acumulado = n*(n+1)/2 #Kevin\n",
        "print(\"ACUMULADO: \", acumulado)"
      ],
      "execution_count": null,
      "outputs": [
        {
          "output_type": "stream",
          "name": "stdout",
          "text": [
            "MESES: 150\n",
            "ACUMULADO:  11325.0\n"
          ]
        }
      ]
    },
    {
      "cell_type": "code",
      "metadata": {
        "id": "_pKPkD9MiUx9",
        "outputId": "c0935cbf-a970-4d80-925a-18a80c2031f9",
        "colab": {
          "base_uri": "https://localhost:8080/"
        }
      },
      "source": [
        "import pandas as pd\n",
        "leguajes = pd.Series([\n",
        "                      \"C#\",\n",
        "                      \"VB\",\n",
        "                      \"PHP\",\n",
        "                      \"HTML\",\n",
        "                      \"JS\",\n",
        "                      \"CSS\",\n",
        "                      \"JAVA\",\n",
        "                      \"XML\",\n",
        "                      \"Python\"],\n",
        "                     index=[2,1,4,5,6,9,3,8,10])\n",
        "print(leguajes, leguajes[2])\n",
        "\n",
        "diccionarioLenguajes = {\n",
        "    2:\"C#\",\n",
        "    1:\"VB\",\n",
        "    4:\"PHP\",\n",
        "    5:\"HTML\",\n",
        "    6:\"JS\",\n",
        "    9:\"CSS\",\n",
        "    3:\"JAVA\",\n",
        "    8:\"XML\",\n",
        "    10:\"Python\"\n",
        "}\n",
        "pdLenguajes = pd.Series(diccionarioLenguajes)\n",
        "print(pdLenguajes)\n",
        "\n",
        "for i in range(30,2000):\n",
        "  pdLenguajes[i] = \"Lenguaje Favorito \"+ str(i)\n",
        "print(pdLenguajes)"
      ],
      "execution_count": 1,
      "outputs": [
        {
          "output_type": "stream",
          "name": "stdout",
          "text": [
            "2         C#\n",
            "1         VB\n",
            "4        PHP\n",
            "5       HTML\n",
            "6         JS\n",
            "9        CSS\n",
            "3       JAVA\n",
            "8        XML\n",
            "10    Python\n",
            "dtype: object C#\n",
            "2         C#\n",
            "1         VB\n",
            "4        PHP\n",
            "5       HTML\n",
            "6         JS\n",
            "9        CSS\n",
            "3       JAVA\n",
            "8        XML\n",
            "10    Python\n",
            "dtype: object\n",
            "2                           C#\n",
            "1                           VB\n",
            "4                          PHP\n",
            "5                         HTML\n",
            "6                           JS\n",
            "                 ...          \n",
            "1995    Lenguaje Favorito 1995\n",
            "1996    Lenguaje Favorito 1996\n",
            "1997    Lenguaje Favorito 1997\n",
            "1998    Lenguaje Favorito 1998\n",
            "1999    Lenguaje Favorito 1999\n",
            "Length: 1979, dtype: object\n"
          ]
        }
      ]
    },
    {
      "cell_type": "code",
      "metadata": {
        "id": "1DOUxi6riaIw",
        "outputId": "a60226e5-3067-410b-aaee-6c4755aebbd4",
        "colab": {
          "base_uri": "https://localhost:8080/",
          "height": 333
        }
      },
      "source": [
        "import pandas as pd\n",
        "import matplotlib.pyplot as plt\n",
        "\n",
        "archivo = pd.read_csv(\"/content/notas.csv\", sep=\";\", encoding=\"utf-8\")\n",
        "#print(archivo, archivo[\"nota\"])\n",
        "\n",
        "proceso = pd.crosstab(index=archivo[\"nota\"],columns=\"frecuencia\")\n",
        "#print(proceso)\n",
        "\n",
        "sobresalientes = proceso.loc[proceso.index>9][\"frecuencia\"].sum()\n",
        "print(sobresalientes)\n",
        "\n",
        "plt.pie(proceso, labels=proceso.index)\n",
        "plt.xlabel(\"Estudiantes sobresalientes\")\n",
        "plt.show()"
      ],
      "execution_count": 2,
      "outputs": [
        {
          "output_type": "stream",
          "name": "stdout",
          "text": [
            "5\n"
          ]
        },
        {
          "output_type": "stream",
          "name": "stderr",
          "text": [
            "/usr/local/lib/python3.7/dist-packages/ipykernel_launcher.py:13: MatplotlibDeprecationWarning: Non-1D inputs to pie() are currently squeeze()d, but this behavior is deprecated since 3.1 and will be removed in 3.3; pass a 1D array instead.\n",
            "  del sys.path[0]\n"
          ]
        },
        {
          "output_type": "display_data",
          "data": {
            "image/png": "[encoded data removed]",
            "text/plain": [
              "<Figure size 432x288 with 1 Axes>"
            ]
          },
          "metadata": {}
        }
      ]
    }
  ]
}